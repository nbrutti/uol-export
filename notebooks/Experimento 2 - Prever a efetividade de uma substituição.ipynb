{
 "cells": [
  {
   "cell_type": "markdown",
   "metadata": {},
   "source": [
    "# Fase de pré-processamento"
   ]
  },
  {
   "cell_type": "markdown",
   "metadata": {},
   "source": [
    "- Entrada: arquivo exportado pelo scraper da UOL\n",
    "- Saída: Arquivo estruturado pronto para submissão ao modelo de aprendizagem"
   ]
  },
  {
   "cell_type": "code",
   "execution_count": 3,
   "metadata": {},
   "outputs": [],
   "source": [
    "import sys\n",
    "\n",
    "sys.path.append('..')\n",
    "\n",
    "from hyperparameters.TeamStrength import *\n",
    "from itertools import compress\n",
    "\n",
    "from enum import Enum\n",
    "import numpy as np\n",
    "import seaborn as sns\n",
    "import matplotlib.pyplot as plt\n",
    "import pandas as pd\n",
    "import json\n",
    "\n",
    "plt.style.use('seaborn')\n",
    "\n",
    "%matplotlib inline"
   ]
  },
  {
   "cell_type": "code",
   "execution_count": 4,
   "metadata": {
    "scrolled": false
   },
   "outputs": [],
   "source": [
    "# Carga do arquivo de saída do scraper\n",
    "file_src = '../output/br-league.json'\n",
    "\n",
    "with open(file_src) as f:\n",
    "    raw_data = json.load(f)\n",
    "\n",
    "class Seasons(Enum):\n",
    "    FIRST = 45\n",
    "    SECOND = 90\n",
    "    \n",
    "def getEventsInfo(events, team, season):\n",
    "    filtered = [(event[\"team\"] == team and int(event[\"time\"]) <= season.value) for event in events]\n",
    "    return filtered.count(True)\n",
    "\n",
    "def addTacticalType(s, data, i, is_home):\n",
    "    prefix = 'h' if is_home else 'a'\n",
    "    if (s == 'OFF'):\n",
    "        data[\"{}_substitution_{}_tactical_type_off\".format(prefix, i)] = 1\n",
    "        data[\"{}_substitution_{}_tactical_type_def\".format(prefix, i)] = 0\n",
    "        data[\"{}_substitution_{}_tactical_type_na\".format(prefix, i)] = 0\n",
    "    elif (s == 'DEF'):\n",
    "        data[\"{}_substitution_{}_tactical_type_off\".format(prefix, i)] = 0\n",
    "        data[\"{}_substitution_{}_tactical_type_def\".format(prefix, i)] = 1\n",
    "        data[\"{}_substitution_{}_tactical_type_na\".format(prefix, i)] = 0\n",
    "    else:\n",
    "        data[\"{}_substitution_{}_tactical_type_off\".format(prefix, i)] = 0\n",
    "        data[\"{}_substitution_{}_tactical_type_def\".format(prefix, i)] = 0\n",
    "        data[\"{}_substitution_{}_tactical_type_na\".format(prefix, i)] = 1\n",
    "\n",
    "def addInterval(t, data, i, is_home):\n",
    "    prefix = 'h' if is_home else 'a'\n",
    "    if (t >= 0 and t <= 15):\n",
    "        data[\"{}_substitution_{}_interval_0\".format(prefix, i)] = 1\n",
    "        data[\"{}_substitution_{}_interval_1\".format(prefix, i)] = 0\n",
    "        data[\"{}_substitution_{}_interval_2\".format(prefix, i)] = 0\n",
    "        data[\"{}_substitution_{}_interval_3\".format(prefix, i)] = 0\n",
    "        data[\"{}_substitution_{}_interval_4\".format(prefix, i)] = 0\n",
    "        data[\"{}_substitution_{}_interval_5\".format(prefix, i)] = 0\n",
    "    elif (t > 15 and t <= 30):\n",
    "        data[\"{}_substitution_{}_interval_0\".format(prefix, i)] = 0\n",
    "        data[\"{}_substitution_{}_interval_1\".format(prefix, i)] = 1\n",
    "        data[\"{}_substitution_{}_interval_2\".format(prefix, i)] = 0\n",
    "        data[\"{}_substitution_{}_interval_3\".format(prefix, i)] = 0\n",
    "        data[\"{}_substitution_{}_interval_4\".format(prefix, i)] = 0\n",
    "        data[\"{}_substitution_{}_interval_5\".format(prefix, i)] = 0\n",
    "    elif (t > 30 and t <= 45):\n",
    "        data[\"{}_substitution_{}_interval_0\".format(prefix, i)] = 0\n",
    "        data[\"{}_substitution_{}_interval_1\".format(prefix, i)] = 0\n",
    "        data[\"{}_substitution_{}_interval_2\".format(prefix, i)] = 1\n",
    "        data[\"{}_substitution_{}_interval_3\".format(prefix, i)] = 0\n",
    "        data[\"{}_substitution_{}_interval_4\".format(prefix, i)] = 0\n",
    "        data[\"{}_substitution_{}_interval_5\".format(prefix, i)] = 0\n",
    "    elif (t > 45 and t <= 60):\n",
    "        data[\"{}_substitution_{}_interval_0\".format(prefix, i)] = 0\n",
    "        data[\"{}_substitution_{}_interval_1\".format(prefix, i)] = 0\n",
    "        data[\"{}_substitution_{}_interval_2\".format(prefix, i)] = 0\n",
    "        data[\"{}_substitution_{}_interval_3\".format(prefix, i)] = 1\n",
    "        data[\"{}_substitution_{}_interval_4\".format(prefix, i)] = 0\n",
    "        data[\"{}_substitution_{}_interval_5\".format(prefix, i)] = 0\n",
    "    elif (t > 60 and t <= 75):\n",
    "        data[\"{}_substitution_{}_interval_0\".format(prefix, i)] = 0\n",
    "        data[\"{}_substitution_{}_interval_1\".format(prefix, i)] = 0\n",
    "        data[\"{}_substitution_{}_interval_2\".format(prefix, i)] = 0\n",
    "        data[\"{}_substitution_{}_interval_3\".format(prefix, i)] = 0\n",
    "        data[\"{}_substitution_{}_interval_4\".format(prefix, i)] = 1\n",
    "        data[\"{}_substitution_{}_interval_5\".format(prefix, i)] = 0\n",
    "    elif (t > 75 and t <= 90):\n",
    "        data[\"{}_substitution_{}_interval_0\".format(prefix, i)] = 0\n",
    "        data[\"{}_substitution_{}_interval_1\".format(prefix, i)] = 0\n",
    "        data[\"{}_substitution_{}_interval_2\".format(prefix, i)] = 0\n",
    "        data[\"{}_substitution_{}_interval_3\".format(prefix, i)] = 0\n",
    "        data[\"{}_substitution_{}_interval_4\".format(prefix, i)] = 0\n",
    "        data[\"{}_substitution_{}_interval_5\".format(prefix, i)] = 1\n",
    "\n",
    "def getYearFromDate(date):\n",
    "    return date[:4]\n",
    "\n",
    "def getSubsInfoAndLabelsHome(data, substitutions):\n",
    "    MAX_SUBSTITUTIONS = 3\n",
    "    \n",
    "    # Home substitutions:\n",
    "    s = [subs[\"team\"] == data[\"home_team_name\"] for subs in substitutions]\n",
    "    d = list(compress(substitutions, s))\n",
    "\n",
    "    for i in range(MAX_SUBSTITUTIONS):\n",
    "        try:\n",
    "            data[\"h_substitution_{}_score_away\".format(i)] = d[i][\"score_away\"]\n",
    "            data[\"h_substitution_{}_score_home\".format(i)] = d[i][\"score_home\"]\n",
    "            data[\"h_substitution_{}_time\".format(i)] = 45 if d[i][\"time\"] == 'INTERVALO' else d[i][\"time\"]\n",
    "            data[\"h_substitution_{}_number\".format(i)] = d[i][\"number_of_sub\"]\n",
    "            data[\"h_substitution_{}_is_home\".format(i)] = 1 if d[i][\"team\"] == data[\"home_team_name\"] else 0\n",
    "            addInterval(int(d[i][\"time\"]), data, i, data[\"h_substitution_{}_is_home\".format(i)])\n",
    "            addTacticalType(d[i][\"tactical_type\"], data, i, data[\"h_substitution_{}_is_home\".format(i)])\n",
    "            data[\"y_{}_effectiveness\".format(i)] = d[i][\"effectiveness\"]\n",
    "            if (data[\"h_substitution_{}_interval_1\".format(i)] == None):\n",
    "                break\n",
    "        except:\n",
    "            data[\"h_substitution_{}_score_away\".format(i)] = 0\n",
    "            data[\"h_substitution_{}_score_home\".format(i)] = 0\n",
    "            data[\"h_substitution_{}_time\".format(i)] = 0\n",
    "            data[\"h_substitution_{}_number\".format(i)] = 0\n",
    "            data[\"h_substitution_{}_is_home\".format(i)] = 0\n",
    "            data[\"y_{}_effectiveness\".format(i)] = 0\n",
    "            data[\"h_substitution_{}_interval_0\".format(i)] = 0\n",
    "            data[\"h_substitution_{}_interval_1\".format(i)] = 0\n",
    "            data[\"h_substitution_{}_interval_2\".format(i)] = 0\n",
    "            data[\"h_substitution_{}_interval_3\".format(i)] = 0\n",
    "            data[\"h_substitution_{}_interval_4\".format(i)] = 0\n",
    "            data[\"h_substitution_{}_interval_5\".format(i)] = 0\n",
    "            data[\"h_substitution_{}_tactical_type_off\".format(i)] = 0\n",
    "            data[\"h_substitution_{}_tactical_type_def\".format(i)] = 0\n",
    "            data[\"h_substitution_{}_tactical_type_na\".format(i)] = 0\n",
    "            \n",
    "def getSubsInfoAndLabelsAway(data, substitutions):\n",
    "    MAX_SUBSTITUTIONS = 3\n",
    "    \n",
    "    # Home substitutions:\n",
    "    s = [subs[\"team\"] != data[\"home_team_name\"] for subs in substitutions]\n",
    "    d = list(compress(substitutions, s))\n",
    "\n",
    "    for i in range(MAX_SUBSTITUTIONS):\n",
    "        try:\n",
    "            data[\"a_substitution_{}_score_away\".format(i)] = d[i][\"score_away\"]\n",
    "            data[\"a_substitution_{}_score_home\".format(i)] = d[i][\"score_home\"]\n",
    "            data[\"a_substitution_{}_time\".format(i)] = 45 if d[i][\"time\"] == 'INTERVALO' else d[i][\"time\"]\n",
    "            data[\"a_substitution_{}_number\".format(i)] = d[i][\"number_of_sub\"]\n",
    "            data[\"a_substitution_{}_is_home\".format(i)] = 1 if d[i][\"team\"] == data[\"home_team_name\"] else 0\n",
    "            addInterval(int(d[i][\"time\"]), data, i, data[\"a_substitution_{}_is_home\".format(i)])\n",
    "            addTacticalType(d[i][\"tactical_type\"], data, i, data[\"a_substitution_{}_is_home\".format(i)])\n",
    "            data[\"y_{}_effectiveness\".format(i)] = d[i][\"effectiveness\"]\n",
    "            if (data[\"a_substitution_{}_interval_1\".format(i)] == None):\n",
    "                break\n",
    "        except:\n",
    "            data[\"a_substitution_{}_score_away\".format(i)] = 0\n",
    "            data[\"a_substitution_{}_score_home\".format(i)] = 0\n",
    "            data[\"a_substitution_{}_time\".format(i)] = 0\n",
    "            data[\"a_substitution_{}_number\".format(i)] = 0\n",
    "            data[\"a_substitution_{}_is_home\".format(i)] = 0\n",
    "            data[\"y_{}_effectiveness\".format(i)] = 0\n",
    "            data[\"a_substitution_{}_interval_0\".format(i)] = 0\n",
    "            data[\"a_substitution_{}_interval_1\".format(i)] = 0\n",
    "            data[\"a_substitution_{}_interval_2\".format(i)] = 0\n",
    "            data[\"a_substitution_{}_interval_3\".format(i)] = 0\n",
    "            data[\"a_substitution_{}_interval_4\".format(i)] = 0\n",
    "            data[\"a_substitution_{}_interval_5\".format(i)] = 0\n",
    "            data[\"a_substitution_{}_tactical_type_off\".format(i)] = 0\n",
    "            data[\"a_substitution_{}_tactical_type_def\".format(i)] = 0\n",
    "            data[\"a_substitution_{}_tactical_type_na\".format(i)] = 0\n",
    "            \n",
    "def dataFormatter(raw_data):\n",
    "    output = []\n",
    "    for d in raw_data:\n",
    "        data = {}\n",
    "        data[\"date\"] = d[\"date\"]\n",
    "        data[\"home_team_name\"] = d[\"home\"]\n",
    "        data[\"away_team_name\"] = d[\"away\"]\n",
    "        data[\"home_win\"] = d[\"home_win\"]\n",
    "        data[\"home_team_strength\"] = TeamStrength().buildParam(d[\"home\"], getYearFromDate(d[\"date\"]))\n",
    "        data[\"ycards_home_1st_season\"] = getEventsInfo(d[\"yellowcards\"],  d[\"home\"], Seasons.FIRST)\n",
    "        data[\"ycards_away_1st_season\"] = getEventsInfo(d[\"yellowcards\"],  d[\"away\"], Seasons.FIRST)\n",
    "        data[\"ycards_home_2nd_season\"] = getEventsInfo(d[\"yellowcards\"],  d[\"home\"], Seasons.SECOND)\n",
    "        data[\"ycards_away_2nd_season\"] = getEventsInfo(d[\"yellowcards\"],  d[\"away\"], Seasons.SECOND)\n",
    "        data[\"rcards_home_1st_season\"] = getEventsInfo(d[\"redcards\"],     d[\"home\"], Seasons.FIRST)\n",
    "        data[\"rcards_away_1st_season\"] = getEventsInfo(d[\"redcards\"],     d[\"away\"], Seasons.FIRST)\n",
    "        data[\"rcards_home_2nd_season\"] = getEventsInfo(d[\"redcards\"],     d[\"home\"], Seasons.SECOND)\n",
    "        data[\"rcards_away_2nd_season\"] = getEventsInfo(d[\"redcards\"],     d[\"away\"], Seasons.SECOND)\n",
    "        data[\"agoals_home_1st_season\"] = getEventsInfo(d[\"againstgoals\"], d[\"home\"], Seasons.FIRST)\n",
    "        data[\"agoals_away_1st_season\"] = getEventsInfo(d[\"againstgoals\"], d[\"away\"], Seasons.FIRST)\n",
    "        data[\"agoals_home_2nd_season\"] = getEventsInfo(d[\"againstgoals\"], d[\"home\"], Seasons.SECOND)\n",
    "        data[\"agoals_away_2nd_season\"] = getEventsInfo(d[\"againstgoals\"], d[\"away\"], Seasons.SECOND)\n",
    "        data[\"penaltys_home_1st_season\"] = getEventsInfo(d[\"penaltys\"],   d[\"home\"], Seasons.FIRST)\n",
    "        data[\"penaltys_away_1st_season\"] = getEventsInfo(d[\"penaltys\"],   d[\"away\"], Seasons.FIRST)\n",
    "        data[\"penaltys_home_2nd_season\"] = getEventsInfo(d[\"penaltys\"],   d[\"home\"], Seasons.SECOND)\n",
    "        data[\"penaltys_away_2nd_season\"] = getEventsInfo(d[\"penaltys\"],   d[\"away\"], Seasons.SECOND)\n",
    "        getSubsInfoAndLabelsHome(data, d[\"substitutions\"])\n",
    "        getSubsInfoAndLabelsAway(data, d[\"substitutions\"])\n",
    "        output.append(data)\n",
    "    return output\n",
    "    \n",
    "data = dataFormatter(raw_data)\n",
    "json_stringify = json.dumps(data)\n",
    "df = pd.read_json(json_stringify)"
   ]
  },
  {
   "cell_type": "code",
   "execution_count": 9,
   "metadata": {},
   "outputs": [
    {
     "data": {
      "text/plain": [
       "<matplotlib.axes._subplots.AxesSubplot at 0x7f27a4f56080>"
      ]
     },
     "execution_count": 9,
     "metadata": {},
     "output_type": "execute_result"
    },
    {
     "data": {
      "image/png": "[encoded data removed]",
      "text/plain": [
       "<Figure size 720x720 with 1 Axes>"
      ]
     },
     "metadata": {
      "needs_background": "light"
     },
     "output_type": "display_data"
    }
   ],
   "source": [
    "df[\"home_win\"].value_counts().plot.bar(rot=0, figsize=(10,10), fontsize=14)"
   ]
  },
  {
   "cell_type": "code",
   "execution_count": 4,
   "metadata": {
    "scrolled": true
   },
   "outputs": [
    {
     "data": {
      "text/html": [
       "<div>\n",
       "<style scoped>\n",
       "    .dataframe tbody tr th:only-of-type {\n",
       "        vertical-align: middle;\n",
       "    }\n",
       "\n",
       "    .dataframe tbody tr th {\n",
       "        vertical-align: top;\n",
       "    }\n",
       "\n",
       "    .dataframe thead th {\n",
       "        text-align: right;\n",
       "    }\n",
       "</style>\n",
       "<table border=\"1\" class=\"dataframe\">\n",
       "  <thead>\n",
       "    <tr style=\"text-align: right;\">\n",
       "      <th></th>\n",
       "      <th>a_substitution_0_interval_0</th>\n",
       "      <th>a_substitution_0_interval_1</th>\n",
       "      <th>a_substitution_0_interval_2</th>\n",
       "      <th>a_substitution_0_interval_3</th>\n",
       "      <th>a_substitution_0_interval_4</th>\n",
       "      <th>a_substitution_0_interval_5</th>\n",
       "      <th>a_substitution_0_is_home</th>\n",
       "      <th>a_substitution_0_number</th>\n",
       "      <th>a_substitution_0_score_away</th>\n",
       "      <th>a_substitution_0_score_home</th>\n",
       "      <th>...</th>\n",
       "      <th>rcards_away_2nd_season</th>\n",
       "      <th>rcards_home_1st_season</th>\n",
       "      <th>rcards_home_2nd_season</th>\n",
       "      <th>y_0_effectiveness</th>\n",
       "      <th>y_1_effectiveness</th>\n",
       "      <th>y_2_effectiveness</th>\n",
       "      <th>ycards_away_1st_season</th>\n",
       "      <th>ycards_away_2nd_season</th>\n",
       "      <th>ycards_home_1st_season</th>\n",
       "      <th>ycards_home_2nd_season</th>\n",
       "    </tr>\n",
       "  </thead>\n",
       "  <tbody>\n",
       "    <tr>\n",
       "      <th>count</th>\n",
       "      <td>718.000000</td>\n",
       "      <td>718.000000</td>\n",
       "      <td>718.000000</td>\n",
       "      <td>718.000000</td>\n",
       "      <td>718.000000</td>\n",
       "      <td>718.000000</td>\n",
       "      <td>718.0</td>\n",
       "      <td>718.000000</td>\n",
       "      <td>718.000000</td>\n",
       "      <td>718.000000</td>\n",
       "      <td>...</td>\n",
       "      <td>718.000000</td>\n",
       "      <td>718.000000</td>\n",
       "      <td>718.000000</td>\n",
       "      <td>718.000000</td>\n",
       "      <td>718.000000</td>\n",
       "      <td>718.000000</td>\n",
       "      <td>718.000000</td>\n",
       "      <td>718.000000</td>\n",
       "      <td>718.000000</td>\n",
       "      <td>718.000000</td>\n",
       "    </tr>\n",
       "    <tr>\n",
       "      <th>mean</th>\n",
       "      <td>0.022284</td>\n",
       "      <td>0.052925</td>\n",
       "      <td>0.075209</td>\n",
       "      <td>0.277159</td>\n",
       "      <td>0.270195</td>\n",
       "      <td>0.018106</td>\n",
       "      <td>0.0</td>\n",
       "      <td>0.715877</td>\n",
       "      <td>0.082173</td>\n",
       "      <td>0.376045</td>\n",
       "      <td>...</td>\n",
       "      <td>0.146240</td>\n",
       "      <td>0.009749</td>\n",
       "      <td>0.045961</td>\n",
       "      <td>0.558496</td>\n",
       "      <td>0.715877</td>\n",
       "      <td>0.724234</td>\n",
       "      <td>0.935933</td>\n",
       "      <td>2.243733</td>\n",
       "      <td>0.625348</td>\n",
       "      <td>1.823120</td>\n",
       "    </tr>\n",
       "    <tr>\n",
       "      <th>std</th>\n",
       "      <td>0.147709</td>\n",
       "      <td>0.224039</td>\n",
       "      <td>0.263912</td>\n",
       "      <td>0.447908</td>\n",
       "      <td>0.444370</td>\n",
       "      <td>0.133427</td>\n",
       "      <td>0.0</td>\n",
       "      <td>0.451310</td>\n",
       "      <td>0.303747</td>\n",
       "      <td>0.627661</td>\n",
       "      <td>...</td>\n",
       "      <td>0.383853</td>\n",
       "      <td>0.098325</td>\n",
       "      <td>0.209547</td>\n",
       "      <td>0.496913</td>\n",
       "      <td>0.451310</td>\n",
       "      <td>0.447211</td>\n",
       "      <td>0.870285</td>\n",
       "      <td>1.370310</td>\n",
       "      <td>0.769193</td>\n",
       "      <td>1.296135</td>\n",
       "    </tr>\n",
       "    <tr>\n",
       "      <th>min</th>\n",
       "      <td>0.000000</td>\n",
       "      <td>0.000000</td>\n",
       "      <td>0.000000</td>\n",
       "      <td>0.000000</td>\n",
       "      <td>0.000000</td>\n",
       "      <td>0.000000</td>\n",
       "      <td>0.0</td>\n",
       "      <td>0.000000</td>\n",
       "      <td>0.000000</td>\n",
       "      <td>0.000000</td>\n",
       "      <td>...</td>\n",
       "      <td>0.000000</td>\n",
       "      <td>0.000000</td>\n",
       "      <td>0.000000</td>\n",
       "      <td>0.000000</td>\n",
       "      <td>0.000000</td>\n",
       "      <td>0.000000</td>\n",
       "      <td>0.000000</td>\n",
       "      <td>0.000000</td>\n",
       "      <td>0.000000</td>\n",
       "      <td>0.000000</td>\n",
       "    </tr>\n",
       "    <tr>\n",
       "      <th>25%</th>\n",
       "      <td>0.000000</td>\n",
       "      <td>0.000000</td>\n",
       "      <td>0.000000</td>\n",
       "      <td>0.000000</td>\n",
       "      <td>0.000000</td>\n",
       "      <td>0.000000</td>\n",
       "      <td>0.0</td>\n",
       "      <td>0.000000</td>\n",
       "      <td>0.000000</td>\n",
       "      <td>0.000000</td>\n",
       "      <td>...</td>\n",
       "      <td>0.000000</td>\n",
       "      <td>0.000000</td>\n",
       "      <td>0.000000</td>\n",
       "      <td>0.000000</td>\n",
       "      <td>0.000000</td>\n",
       "      <td>0.000000</td>\n",
       "      <td>0.000000</td>\n",
       "      <td>1.000000</td>\n",
       "      <td>0.000000</td>\n",
       "      <td>1.000000</td>\n",
       "    </tr>\n",
       "    <tr>\n",
       "      <th>50%</th>\n",
       "      <td>0.000000</td>\n",
       "      <td>0.000000</td>\n",
       "      <td>0.000000</td>\n",
       "      <td>0.000000</td>\n",
       "      <td>0.000000</td>\n",
       "      <td>0.000000</td>\n",
       "      <td>0.0</td>\n",
       "      <td>1.000000</td>\n",
       "      <td>0.000000</td>\n",
       "      <td>0.000000</td>\n",
       "      <td>...</td>\n",
       "      <td>0.000000</td>\n",
       "      <td>0.000000</td>\n",
       "      <td>0.000000</td>\n",
       "      <td>1.000000</td>\n",
       "      <td>1.000000</td>\n",
       "      <td>1.000000</td>\n",
       "      <td>1.000000</td>\n",
       "      <td>2.000000</td>\n",
       "      <td>0.000000</td>\n",
       "      <td>2.000000</td>\n",
       "    </tr>\n",
       "    <tr>\n",
       "      <th>75%</th>\n",
       "      <td>0.000000</td>\n",
       "      <td>0.000000</td>\n",
       "      <td>0.000000</td>\n",
       "      <td>1.000000</td>\n",
       "      <td>1.000000</td>\n",
       "      <td>0.000000</td>\n",
       "      <td>0.0</td>\n",
       "      <td>1.000000</td>\n",
       "      <td>0.000000</td>\n",
       "      <td>1.000000</td>\n",
       "      <td>...</td>\n",
       "      <td>0.000000</td>\n",
       "      <td>0.000000</td>\n",
       "      <td>0.000000</td>\n",
       "      <td>1.000000</td>\n",
       "      <td>1.000000</td>\n",
       "      <td>1.000000</td>\n",
       "      <td>1.000000</td>\n",
       "      <td>3.000000</td>\n",
       "      <td>1.000000</td>\n",
       "      <td>3.000000</td>\n",
       "    </tr>\n",
       "    <tr>\n",
       "      <th>max</th>\n",
       "      <td>1.000000</td>\n",
       "      <td>1.000000</td>\n",
       "      <td>1.000000</td>\n",
       "      <td>1.000000</td>\n",
       "      <td>1.000000</td>\n",
       "      <td>1.000000</td>\n",
       "      <td>0.0</td>\n",
       "      <td>1.000000</td>\n",
       "      <td>2.000000</td>\n",
       "      <td>3.000000</td>\n",
       "      <td>...</td>\n",
       "      <td>2.000000</td>\n",
       "      <td>1.000000</td>\n",
       "      <td>1.000000</td>\n",
       "      <td>1.000000</td>\n",
       "      <td>1.000000</td>\n",
       "      <td>1.000000</td>\n",
       "      <td>4.000000</td>\n",
       "      <td>7.000000</td>\n",
       "      <td>4.000000</td>\n",
       "      <td>7.000000</td>\n",
       "    </tr>\n",
       "  </tbody>\n",
       "</table>\n",
       "<p>8 rows × 106 columns</p>\n",
       "</div>"
      ],
      "text/plain": [
       "       a_substitution_0_interval_0  a_substitution_0_interval_1  \\\n",
       "count                   718.000000                   718.000000   \n",
       "mean                      0.022284                     0.052925   \n",
       "std                       0.147709                     0.224039   \n",
       "min                       0.000000                     0.000000   \n",
       "25%                       0.000000                     0.000000   \n",
       "50%                       0.000000                     0.000000   \n",
       "75%                       0.000000                     0.000000   \n",
       "max                       1.000000                     1.000000   \n",
       "\n",
       "       a_substitution_0_interval_2  a_substitution_0_interval_3  \\\n",
       "count                   718.000000                   718.000000   \n",
       "mean                      0.075209                     0.277159   \n",
       "std                       0.263912                     0.447908   \n",
       "min                       0.000000                     0.000000   \n",
       "25%                       0.000000                     0.000000   \n",
       "50%                       0.000000                     0.000000   \n",
       "75%                       0.000000                     1.000000   \n",
       "max                       1.000000                     1.000000   \n",
       "\n",
       "       a_substitution_0_interval_4  a_substitution_0_interval_5  \\\n",
       "count                   718.000000                   718.000000   \n",
       "mean                      0.270195                     0.018106   \n",
       "std                       0.444370                     0.133427   \n",
       "min                       0.000000                     0.000000   \n",
       "25%                       0.000000                     0.000000   \n",
       "50%                       0.000000                     0.000000   \n",
       "75%                       1.000000                     0.000000   \n",
       "max                       1.000000                     1.000000   \n",
       "\n",
       "       a_substitution_0_is_home  a_substitution_0_number  \\\n",
       "count                     718.0               718.000000   \n",
       "mean                        0.0                 0.715877   \n",
       "std                         0.0                 0.451310   \n",
       "min                         0.0                 0.000000   \n",
       "25%                         0.0                 0.000000   \n",
       "50%                         0.0                 1.000000   \n",
       "75%                         0.0                 1.000000   \n",
       "max                         0.0                 1.000000   \n",
       "\n",
       "       a_substitution_0_score_away  a_substitution_0_score_home  ...  \\\n",
       "count                   718.000000                   718.000000  ...   \n",
       "mean                      0.082173                     0.376045  ...   \n",
       "std                       0.303747                     0.627661  ...   \n",
       "min                       0.000000                     0.000000  ...   \n",
       "25%                       0.000000                     0.000000  ...   \n",
       "50%                       0.000000                     0.000000  ...   \n",
       "75%                       0.000000                     1.000000  ...   \n",
       "max                       2.000000                     3.000000  ...   \n",
       "\n",
       "       rcards_away_2nd_season  rcards_home_1st_season  rcards_home_2nd_season  \\\n",
       "count              718.000000              718.000000              718.000000   \n",
       "mean                 0.146240                0.009749                0.045961   \n",
       "std                  0.383853                0.098325                0.209547   \n",
       "min                  0.000000                0.000000                0.000000   \n",
       "25%                  0.000000                0.000000                0.000000   \n",
       "50%                  0.000000                0.000000                0.000000   \n",
       "75%                  0.000000                0.000000                0.000000   \n",
       "max                  2.000000                1.000000                1.000000   \n",
       "\n",
       "       y_0_effectiveness  y_1_effectiveness  y_2_effectiveness  \\\n",
       "count         718.000000         718.000000         718.000000   \n",
       "mean            0.558496           0.715877           0.724234   \n",
       "std             0.496913           0.451310           0.447211   \n",
       "min             0.000000           0.000000           0.000000   \n",
       "25%             0.000000           0.000000           0.000000   \n",
       "50%             1.000000           1.000000           1.000000   \n",
       "75%             1.000000           1.000000           1.000000   \n",
       "max             1.000000           1.000000           1.000000   \n",
       "\n",
       "       ycards_away_1st_season  ycards_away_2nd_season  ycards_home_1st_season  \\\n",
       "count              718.000000              718.000000              718.000000   \n",
       "mean                 0.935933                2.243733                0.625348   \n",
       "std                  0.870285                1.370310                0.769193   \n",
       "min                  0.000000                0.000000                0.000000   \n",
       "25%                  0.000000                1.000000                0.000000   \n",
       "50%                  1.000000                2.000000                0.000000   \n",
       "75%                  1.000000                3.000000                1.000000   \n",
       "max                  4.000000                7.000000                4.000000   \n",
       "\n",
       "       ycards_home_2nd_season  \n",
       "count              718.000000  \n",
       "mean                 1.823120  \n",
       "std                  1.296135  \n",
       "min                  0.000000  \n",
       "25%                  1.000000  \n",
       "50%                  2.000000  \n",
       "75%                  3.000000  \n",
       "max                  7.000000  \n",
       "\n",
       "[8 rows x 106 columns]"
      ]
     },
     "execution_count": 4,
     "metadata": {},
     "output_type": "execute_result"
    }
   ],
   "source": [
    "df = df[df[\"home_win\"] == 1]\n",
    "df.describe()"
   ]
  },
  {
   "cell_type": "code",
   "execution_count": 5,
   "metadata": {
    "scrolled": true
   },
   "outputs": [
    {
     "data": {
      "text/plain": [
       "<matplotlib.axes._subplots.AxesSubplot at 0x7fd9f7d68b38>"
      ]
     },
     "execution_count": 5,
     "metadata": {},
     "output_type": "execute_result"
    },
    {
     "data": {
      "image/png": "[encoded data removed]",
      "text/plain": [
       "<Figure size 432x288 with 1 Axes>"
      ]
     },
     "metadata": {
      "needs_background": "light"
     },
     "output_type": "display_data"
    }
   ],
   "source": [
    "df_filtered = df[df[\"h_substitution_0_time\"] != 0]\n",
    "df_filtered[\"h_substitution_0_time\"].apply(lambda x : 45 if x == 'INTERVALO' else int(x)).plot.hist()"
   ]
  },
  {
   "cell_type": "code",
   "execution_count": 6,
   "metadata": {},
   "outputs": [
    {
     "data": {
      "text/plain": [
       "<matplotlib.axes._subplots.AxesSubplot at 0x7fd9f663c6a0>"
      ]
     },
     "execution_count": 6,
     "metadata": {},
     "output_type": "execute_result"
    },
    {
     "data": {
      "image/png": "[encoded data removed]",
      "text/plain": [
       "<Figure size 432x288 with 1 Axes>"
      ]
     },
     "metadata": {
      "needs_background": "light"
     },
     "output_type": "display_data"
    }
   ],
   "source": [
    "df_filtered = df[df[\"h_substitution_1_time\"] != 0]\n",
    "df_filtered[\"h_substitution_1_time\"].apply(lambda x : 45 if x == 'INTERVALO' else int(x)).plot.hist()"
   ]
  },
  {
   "cell_type": "code",
   "execution_count": 7,
   "metadata": {},
   "outputs": [
    {
     "data": {
      "text/plain": [
       "<matplotlib.axes._subplots.AxesSubplot at 0x7fd9f5d37e48>"
      ]
     },
     "execution_count": 7,
     "metadata": {},
     "output_type": "execute_result"
    },
    {
     "data": {
      "image/png": "[encoded data removed]",
      "text/plain": [
       "<Figure size 432x288 with 1 Axes>"
      ]
     },
     "metadata": {
      "needs_background": "light"
     },
     "output_type": "display_data"
    }
   ],
   "source": [
    "df_filtered = df[df[\"h_substitution_2_time\"] != 0]\n",
    "df_filtered[\"h_substitution_2_time\"].apply(lambda x : 45 if x == 'INTERVALO' else int(x)).plot.hist()"
   ]
  },
  {
   "cell_type": "code",
   "execution_count": 8,
   "metadata": {},
   "outputs": [],
   "source": [
    "from sklearn.model_selection import train_test_split\n",
    "\n",
    "target_columns = [\n",
    "    'y_0_effectiveness',\n",
    "    'y_1_effectiveness',\n",
    "    'y_2_effectiveness'\n",
    "]\n",
    "\n",
    "Y = df.filter(target_columns, axis=1)\n",
    "try:\n",
    "    X = df.drop(columns=target_columns, axis=1, inplace=True)\n",
    "except:\n",
    "    pass\n",
    "#df = df.drop(df.filter(regex=r'(a_substitution_[1,2])').columns, axis=1)\n",
    "exclude = ['away_team_name', 'home_team_name', 'date']\n",
    "X = df.drop(columns=exclude, axis='columns')"
   ]
  },
  {
   "cell_type": "markdown",
   "metadata": {},
   "source": [
    "## Model selection (Kfold)"
   ]
  },
  {
   "cell_type": "code",
   "execution_count": 9,
   "metadata": {},
   "outputs": [],
   "source": [
    "from skmultilearn.problem_transform import LabelPowerset\n",
    "from sklearn.model_selection import KFold\n",
    "\n",
    "kf = KFold(n_splits=2, random_state=None, shuffle=False)\n",
    "\n",
    "# Transformar o Y em uma dimensão (Multiclasse):\n",
    "Y_mclass = pd.DataFrame(LabelPowerset().transform(Y))\n",
    "\n",
    "for train_index, test_index in kf.split(X):\n",
    "    #print(\"TRAIN:\", train_index, \"TEST:\", test_index)\n",
    "    X_train, X_test = X.iloc[train_index], X.iloc[test_index]\n",
    "    y_train_m, y_test_m = Y.iloc[train_index], Y.iloc[test_index]\n",
    "    y_train, y_test = Y_mclass.iloc[train_index], Y_mclass.iloc[test_index]\n",
    "\n",
    "#X_train, X_test, Y_train, Y_test = train_test_split(X, Y, test_size = 0.3, random_state = 42)"
   ]
  },
  {
   "cell_type": "code",
   "execution_count": 17,
   "metadata": {},
   "outputs": [
    {
     "name": "stdout",
     "output_type": "stream",
     "text": [
      "<class 'pandas.core.frame.DataFrame'>\n",
      "Int64Index: 718 entries, 0 to 1421\n",
      "Columns: 102 entries, a_substitution_0_interval_0 to ycards_home_2nd_season\n",
      "dtypes: float64(1), int64(101)\n",
      "memory usage: 577.8 KB\n"
     ]
    }
   ],
   "source": [
    "X.info()"
   ]
  },
  {
   "cell_type": "code",
   "execution_count": null,
   "metadata": {
    "scrolled": false
   },
   "outputs": [],
   "source": []
  },
  {
   "cell_type": "markdown",
   "metadata": {},
   "source": [
    "## Visualização da distribuição do target (y_train)"
   ]
  },
  {
   "cell_type": "code",
   "execution_count": 11,
   "metadata": {},
   "outputs": [
    {
     "data": {
      "text/plain": [
       "<matplotlib.axes._subplots.AxesSubplot at 0x7fd9f5155e80>"
      ]
     },
     "execution_count": 11,
     "metadata": {},
     "output_type": "execute_result"
    },
    {
     "data": {
      "image/png": "[encoded data removed]",
      "text/plain": [
       "<Figure size 864x432 with 1 Axes>"
      ]
     },
     "metadata": {},
     "output_type": "display_data"
    }
   ],
   "source": [
    "target_view = pd.DataFrame(y_train)\n",
    "target_view[0].value_counts().plot(kind='pie', figsize=(12,6), title='Distribuição de classes', colormap='inferno')"
   ]
  },
  {
   "cell_type": "markdown",
   "metadata": {},
   "source": [
    "# Feature selection"
   ]
  },
  {
   "cell_type": "code",
   "execution_count": 12,
   "metadata": {},
   "outputs": [
    {
     "name": "stderr",
     "output_type": "stream",
     "text": [
      "/usr/local/lib/python3.7/dist-packages/sklearn/utils/validation.py:724: DataConversionWarning: A column-vector y was passed when a 1d array was expected. Please change the shape of y to (n_samples, ), for example using ravel().\n",
      "  y = column_or_1d(y, warn=True)\n",
      "/usr/local/lib/python3.7/dist-packages/sklearn/feature_selection/univariate_selection.py:114: UserWarning: Features [ 6 20 28 29 30 34 60 61 74 75 76 77 89] are constant.\n",
      "  UserWarning)\n",
      "/usr/local/lib/python3.7/dist-packages/sklearn/feature_selection/univariate_selection.py:115: RuntimeWarning: invalid value encountered in true_divide\n",
      "  f = msb / msw\n"
     ]
    },
    {
     "data": {
      "text/html": [
       "<div>\n",
       "<style scoped>\n",
       "    .dataframe tbody tr th:only-of-type {\n",
       "        vertical-align: middle;\n",
       "    }\n",
       "\n",
       "    .dataframe tbody tr th {\n",
       "        vertical-align: top;\n",
       "    }\n",
       "\n",
       "    .dataframe thead th {\n",
       "        text-align: right;\n",
       "    }\n",
       "</style>\n",
       "<table border=\"1\" class=\"dataframe\">\n",
       "  <thead>\n",
       "    <tr style=\"text-align: right;\">\n",
       "      <th></th>\n",
       "      <th>0</th>\n",
       "      <th>1</th>\n",
       "      <th>2</th>\n",
       "      <th>3</th>\n",
       "      <th>4</th>\n",
       "      <th>5</th>\n",
       "      <th>6</th>\n",
       "      <th>7</th>\n",
       "      <th>8</th>\n",
       "      <th>9</th>\n",
       "      <th>...</th>\n",
       "      <th>16</th>\n",
       "      <th>17</th>\n",
       "      <th>18</th>\n",
       "      <th>19</th>\n",
       "      <th>20</th>\n",
       "      <th>21</th>\n",
       "      <th>22</th>\n",
       "      <th>23</th>\n",
       "      <th>24</th>\n",
       "      <th>25</th>\n",
       "    </tr>\n",
       "  </thead>\n",
       "  <tbody>\n",
       "    <tr>\n",
       "      <th>0</th>\n",
       "      <td>0.0</td>\n",
       "      <td>0.0</td>\n",
       "      <td>1.0</td>\n",
       "      <td>0.0</td>\n",
       "      <td>1.0</td>\n",
       "      <td>0.0</td>\n",
       "      <td>0.0</td>\n",
       "      <td>0.0</td>\n",
       "      <td>1.0</td>\n",
       "      <td>0.0</td>\n",
       "      <td>...</td>\n",
       "      <td>0.0</td>\n",
       "      <td>0.0</td>\n",
       "      <td>49.0</td>\n",
       "      <td>1.0</td>\n",
       "      <td>0.0</td>\n",
       "      <td>3.0</td>\n",
       "      <td>1.0</td>\n",
       "      <td>0.0</td>\n",
       "      <td>0.0</td>\n",
       "      <td>74.0</td>\n",
       "    </tr>\n",
       "    <tr>\n",
       "      <th>1</th>\n",
       "      <td>0.0</td>\n",
       "      <td>1.0</td>\n",
       "      <td>0.0</td>\n",
       "      <td>0.0</td>\n",
       "      <td>1.0</td>\n",
       "      <td>0.0</td>\n",
       "      <td>0.0</td>\n",
       "      <td>0.0</td>\n",
       "      <td>0.0</td>\n",
       "      <td>1.0</td>\n",
       "      <td>...</td>\n",
       "      <td>0.0</td>\n",
       "      <td>0.0</td>\n",
       "      <td>76.0</td>\n",
       "      <td>0.0</td>\n",
       "      <td>1.0</td>\n",
       "      <td>3.0</td>\n",
       "      <td>0.0</td>\n",
       "      <td>0.0</td>\n",
       "      <td>1.0</td>\n",
       "      <td>84.0</td>\n",
       "    </tr>\n",
       "    <tr>\n",
       "      <th>2</th>\n",
       "      <td>0.0</td>\n",
       "      <td>0.0</td>\n",
       "      <td>1.0</td>\n",
       "      <td>0.0</td>\n",
       "      <td>1.0</td>\n",
       "      <td>0.0</td>\n",
       "      <td>1.0</td>\n",
       "      <td>0.0</td>\n",
       "      <td>1.0</td>\n",
       "      <td>0.0</td>\n",
       "      <td>...</td>\n",
       "      <td>0.0</td>\n",
       "      <td>1.0</td>\n",
       "      <td>64.0</td>\n",
       "      <td>0.0</td>\n",
       "      <td>1.0</td>\n",
       "      <td>3.0</td>\n",
       "      <td>1.0</td>\n",
       "      <td>0.0</td>\n",
       "      <td>0.0</td>\n",
       "      <td>88.0</td>\n",
       "    </tr>\n",
       "    <tr>\n",
       "      <th>3</th>\n",
       "      <td>0.0</td>\n",
       "      <td>0.0</td>\n",
       "      <td>0.0</td>\n",
       "      <td>1.0</td>\n",
       "      <td>1.0</td>\n",
       "      <td>0.0</td>\n",
       "      <td>0.0</td>\n",
       "      <td>0.0</td>\n",
       "      <td>1.0</td>\n",
       "      <td>0.0</td>\n",
       "      <td>...</td>\n",
       "      <td>1.0</td>\n",
       "      <td>0.0</td>\n",
       "      <td>77.0</td>\n",
       "      <td>0.0</td>\n",
       "      <td>1.0</td>\n",
       "      <td>3.0</td>\n",
       "      <td>1.0</td>\n",
       "      <td>0.0</td>\n",
       "      <td>0.0</td>\n",
       "      <td>86.0</td>\n",
       "    </tr>\n",
       "    <tr>\n",
       "      <th>4</th>\n",
       "      <td>1.0</td>\n",
       "      <td>0.0</td>\n",
       "      <td>0.0</td>\n",
       "      <td>0.0</td>\n",
       "      <td>1.0</td>\n",
       "      <td>0.0</td>\n",
       "      <td>0.0</td>\n",
       "      <td>1.0</td>\n",
       "      <td>0.0</td>\n",
       "      <td>0.0</td>\n",
       "      <td>...</td>\n",
       "      <td>0.0</td>\n",
       "      <td>1.0</td>\n",
       "      <td>62.0</td>\n",
       "      <td>0.0</td>\n",
       "      <td>1.0</td>\n",
       "      <td>3.0</td>\n",
       "      <td>1.0</td>\n",
       "      <td>0.0</td>\n",
       "      <td>0.0</td>\n",
       "      <td>88.0</td>\n",
       "    </tr>\n",
       "  </tbody>\n",
       "</table>\n",
       "<p>5 rows × 26 columns</p>\n",
       "</div>"
      ],
      "text/plain": [
       "    0    1    2    3    4    5    6    7    8    9   ...   16   17    18   19  \\\n",
       "0  0.0  0.0  1.0  0.0  1.0  0.0  0.0  0.0  1.0  0.0  ...  0.0  0.0  49.0  1.0   \n",
       "1  0.0  1.0  0.0  0.0  1.0  0.0  0.0  0.0  0.0  1.0  ...  0.0  0.0  76.0  0.0   \n",
       "2  0.0  0.0  1.0  0.0  1.0  0.0  1.0  0.0  1.0  0.0  ...  0.0  1.0  64.0  0.0   \n",
       "3  0.0  0.0  0.0  1.0  1.0  0.0  0.0  0.0  1.0  0.0  ...  1.0  0.0  77.0  0.0   \n",
       "4  1.0  0.0  0.0  0.0  1.0  0.0  0.0  1.0  0.0  0.0  ...  0.0  1.0  62.0  0.0   \n",
       "\n",
       "    20   21   22   23   24    25  \n",
       "0  0.0  3.0  1.0  0.0  0.0  74.0  \n",
       "1  1.0  3.0  0.0  0.0  1.0  84.0  \n",
       "2  1.0  3.0  1.0  0.0  0.0  88.0  \n",
       "3  1.0  3.0  1.0  0.0  0.0  86.0  \n",
       "4  1.0  3.0  1.0  0.0  0.0  88.0  \n",
       "\n",
       "[5 rows x 26 columns]"
      ]
     },
     "execution_count": 12,
     "metadata": {},
     "output_type": "execute_result"
    }
   ],
   "source": [
    "# Links úteis http://minerandodados.com.br/index.php/2018/05/21/feature-selection-bala-de-prata/\n",
    "\n",
    "PERCENTILE = 25\n",
    "\n",
    "from skmultilearn.problem_transform import LabelPowerset\n",
    "from sklearn.feature_selection import SelectPercentile, f_classif\n",
    "\n",
    "fs = SelectPercentile(f_classif, percentile=PERCENTILE)\n",
    "fs.fit(X_train, y_train)\n",
    "X_train_fs = fs.transform(X_train)\n",
    "X_test_fs = fs.transform(X_test)\n",
    "x = pd.DataFrame(X_train_fs)\n",
    "x.head()\n"
   ]
  },
  {
   "cell_type": "code",
   "execution_count": 13,
   "metadata": {
    "scrolled": false
   },
   "outputs": [
    {
     "data": {
      "text/plain": [
       "<matplotlib.image.AxesImage at 0x7fd9f4f2c470>"
      ]
     },
     "execution_count": 13,
     "metadata": {},
     "output_type": "execute_result"
    },
    {
     "data": {
      "image/png": "[encoded data removed]",
      "text/plain": [
       "<Figure size 1152x144 with 1 Axes>"
      ]
     },
     "metadata": {
      "needs_background": "light"
     },
     "output_type": "display_data"
    }
   ],
   "source": [
    "mask = fs.get_support()\n",
    "plt.matshow(mask.reshape(1, -1), cmap='gray_r')"
   ]
  },
  {
   "cell_type": "code",
   "execution_count": 2,
   "metadata": {},
   "outputs": [
    {
     "ename": "NameError",
     "evalue": "name 'X' is not defined",
     "output_type": "error",
     "traceback": [
      "\u001b[0;31m---------------------------------------------------------------------------\u001b[0m",
      "\u001b[0;31mNameError\u001b[0m                                 Traceback (most recent call last)",
      "\u001b[0;32m<ipython-input-2-b5fec669aca1>\u001b[0m in \u001b[0;36m<module>\u001b[0;34m\u001b[0m\n\u001b[0;32m----> 1\u001b[0;31m \u001b[0mX\u001b[0m\u001b[0;34m\u001b[0m\u001b[0;34m\u001b[0m\u001b[0m\n\u001b[0m",
      "\u001b[0;31mNameError\u001b[0m: name 'X' is not defined"
     ]
    }
   ],
   "source": [
    "X"
   ]
  },
  {
   "cell_type": "markdown",
   "metadata": {},
   "source": [
    "# Implementação e avaliação dos Classificadores"
   ]
  },
  {
   "cell_type": "code",
   "execution_count": 15,
   "metadata": {
    "scrolled": true
   },
   "outputs": [],
   "source": [
    "from sklearn.metrics import classification_report, accuracy_score, hamming_loss\n",
    "\n",
    "from skmultilearn.problem_transform import LabelPowerset\n",
    "from sklearn.ensemble import RandomForestClassifier\n",
    "from sklearn.neighbors import KNeighborsClassifier\n",
    "from sklearn.svm import SVC\n",
    "\n",
    "from sklearn.model_selection import GridSearchCV\n",
    "\n",
    "rf_params = {\n",
    "    \"criterion\": ['entropy', 'gini'],\n",
    "    \"n_estimators\": [25, 50, 75],\n",
    "    \"bootstrap\": [False, True]\n",
    "    #\"max_depth\": [3, 5, 10, 15, 20, 50]\n",
    "    #\"max_features\": ['auto', 0.1, 0.2, 0.3]\n",
    "}\n",
    "\n",
    "knn_params = {\n",
    "    \"algorithm\": ['ball_tree', 'kd_tree', 'brute'],\n",
    "    \"n_neighbors\": [3, 5, 11, 19],\n",
    "    \"weights\": ['uniform', 'distance'],\n",
    "}\n",
    "\n",
    "svm_params = {\n",
    "    \"C\": [1, 10, 100, 1000],\n",
    "    \"gamma\": [1, 0.1, 0.001, 0.0001],\n",
    "    \"kernel\": ['linear','rbf']\n",
    "}\n",
    "\n",
    "models = [\n",
    "    ('Random Forest Classifier', RandomForestClassifier(), rf_params),\n",
    "    #('KNeighbors Classifier', KNeighborsClassifier(), knn_params)\n",
    "    #('SVM Classifier', SVC(), svm_params)\n",
    "]"
   ]
  },
  {
   "cell_type": "code",
   "execution_count": 16,
   "metadata": {
    "scrolled": false
   },
   "outputs": [
    {
     "name": "stdout",
     "output_type": "stream",
     "text": [
      "Random Forest Classifier performance: \n",
      "\n"
     ]
    },
    {
     "name": "stderr",
     "output_type": "stream",
     "text": [
      "/usr/local/lib/python3.7/dist-packages/sklearn/model_selection/_search.py:813: DeprecationWarning: The default of the `iid` parameter will change from True to False in version 0.22 and will be removed in 0.24. This will change numeric results when test-set sizes are unequal.\n",
      "  DeprecationWarning)\n"
     ]
    },
    {
     "name": "stdout",
     "output_type": "stream",
     "text": [
      "0.8662952646239555\n",
      "              precision    recall  f1-score   support\n",
      "\n",
      "           0       0.95      0.96      0.95       206\n",
      "           1       0.95      0.99      0.97       257\n",
      "           2       0.96      0.98      0.97       260\n",
      "\n",
      "   micro avg       0.96      0.98      0.97       723\n",
      "   macro avg       0.95      0.98      0.96       723\n",
      "weighted avg       0.96      0.98      0.97       723\n",
      " samples avg       0.92      0.93      0.92       723\n",
      "\n"
     ]
    },
    {
     "name": "stderr",
     "output_type": "stream",
     "text": [
      "/usr/local/lib/python3.7/dist-packages/sklearn/metrics/classification.py:1437: UndefinedMetricWarning: Precision and F-score are ill-defined and being set to 0.0 in samples with no predicted labels.\n",
      "  'precision', 'predicted', average, warn_for)\n",
      "/usr/local/lib/python3.7/dist-packages/sklearn/metrics/classification.py:1439: UndefinedMetricWarning: Recall and F-score are ill-defined and being set to 0.0 in samples with no true labels.\n",
      "  'recall', 'true', average, warn_for)\n"
     ]
    },
    {
     "data": {
      "image/png": "[encoded data removed]",
      "text/plain": [
       "<Figure size 864x432 with 1 Axes>"
      ]
     },
     "metadata": {
      "needs_background": "light"
     },
     "output_type": "display_data"
    }
   ],
   "source": [
    "for name, classifier, params in models:\n",
    "    print (\"{} performance: \\n\".format(name))\n",
    "    grid_search = GridSearchCV(classifier, param_grid=params, scoring='accuracy', cv=5)\n",
    "    best_model = LabelPowerset(grid_search, require_dense=[False,True]).fit(X_train_fs, y_train_m)\n",
    "    y_hat = best_model.predict(X_test_fs)\n",
    "    \n",
    "    # Plotar as features mais importantes\n",
    "    try:\n",
    "        fsize = len(grid_search.best_estimator_.feature_importances_)\n",
    "        (pd.Series(grid_search.best_estimator_.feature_importances_, index=X.columns[0:fsize]).nlargest(fsize).plot(kind='barh', figsize=(12,6)))\n",
    "    except:\n",
    "        print(\"Não foi possível extrair as melhores features do classificador {}\".format(classifier))\n",
    "        pass\n",
    "\n",
    "    print (accuracy_score(y_test_m, y_hat))\n",
    "    print (classification_report(y_test_m, y_hat))"
   ]
  },
  {
   "cell_type": "code",
   "execution_count": null,
   "metadata": {},
   "outputs": [],
   "source": []
  },
  {
   "cell_type": "code",
   "execution_count": null,
   "metadata": {},
   "outputs": [],
   "source": []
  }
 ],
 "metadata": {
  "kernelspec": {
   "display_name": "Python 3",
   "language": "python",
   "name": "python3"
  },
  "language_info": {
   "codemirror_mode": {
    "name": "ipython",
    "version": 3
   },
   "file_extension": ".py",
   "mimetype": "text/x-python",
   "name": "python",
   "nbconvert_exporter": "python",
   "pygments_lexer": "ipython3",
   "version": "3.7.3"
  }
 },
 "nbformat": 4,
 "nbformat_minor": 2
}
