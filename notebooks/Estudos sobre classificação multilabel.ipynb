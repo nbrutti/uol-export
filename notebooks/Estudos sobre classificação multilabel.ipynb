{
 "cells": [
  {
   "cell_type": "code",
   "execution_count": 28,
   "metadata": {},
   "outputs": [
    {
     "name": "stdout",
     "output_type": "stream",
     "text": [
      "    0  1  2  3  4  5  6  7  8\n",
      "0   1  1  1  1  1  1  1  1  1\n",
      "1   1  0  1  1  1  1  0  1  1\n",
      "2   1  0  1  1  1  1  1  1  1\n",
      "3   1  1  1  1  1  1  1  1  1\n",
      "4   1  0  1  1  1  1  1  1  1\n",
      "5   1  1  1  1  1  1  1  1  1\n",
      "6   1  1  0  1  1  1  1  1  1\n",
      "7   1  1  0  1  1  1  0  1  1\n",
      "8   1  1  1  1  1  1  1  1  1\n",
      "9   1  1  1  1  1  1  1  1  1\n",
      "10  1  1  0  1  1  1  1  1  0\n",
      "11  1  1  1  1  1  1  1  1  1\n",
      "12  1  1  0  1  1  1  1  1  1\n",
      "13  1  1  1  1  1  1  1  1  1\n",
      "14  1  1  1  1  1  1  1  1  1\n",
      "15  1  1  1  1  1  1  1  1  1\n",
      "16  1  0  1  1  1  1  1  1  1\n",
      "17  1  1  1  1  1  1  1  1  1\n",
      "18  1  1  1  1  1  1  1  1  1\n",
      "19  1  1  1  1  1  1  1  1  1\n",
      "20  1  1  1  1  1  1  1  1  1\n",
      "21  0  0  1  1  1  1  1  1  0\n",
      "22  1  1  1  1  1  1  1  1  1\n",
      "23  1  1  1  1  1  1  1  1  1\n",
      "24  1  0  1  1  1  1  1  1  1\n",
      "25  1  0  1  1  1  1  1  1  1\n",
      "26  1  1  1  1  0  1  1  1  1\n",
      "27  1  0  1  1  1  1  1  1  1\n",
      "28  1  1  1  1  1  1  1  1  1\n",
      "29  1  0  1  1  1  1  1  1  1\n",
      ".. .. .. .. .. .. .. .. .. ..\n",
      "70  1  1  1  1  1  1  1  1  1\n",
      "71  0  1  0  1  1  1  1  1  1\n",
      "72  1  1  0  1  1  1  1  1  1\n",
      "73  1  1  1  1  1  1  1  1  1\n",
      "74  1  1  1  1  1  1  1  1  1\n",
      "75  1  1  1  1  1  1  1  1  1\n",
      "76  1  1  1  1  1  1  1  1  1\n",
      "77  1  1  1  1  1  1  1  1  1\n",
      "78  0  0  1  1  1  1  1  1  1\n",
      "79  1  1  1  1  1  1  1  1  1\n",
      "80  1  1  0  1  1  1  0  1  1\n",
      "81  1  0  0  1  1  1  1  1  1\n",
      "82  1  1  1  1  1  1  1  1  1\n",
      "83  1  1  1  1  1  1  1  1  1\n",
      "84  1  1  1  1  1  1  1  1  1\n",
      "85  1  1  1  1  1  1  1  1  1\n",
      "86  1  0  1  1  1  1  1  1  1\n",
      "87  1  1  0  1  1  1  1  1  1\n",
      "88  1  1  1  1  1  1  1  1  1\n",
      "89  1  1  1  1  1  1  1  1  1\n",
      "90  1  0  1  1  1  1  1  1  1\n",
      "91  1  1  0  1  1  1  1  1  1\n",
      "92  1  0  1  1  1  1  1  1  1\n",
      "93  1  1  1  1  1  1  1  1  1\n",
      "94  1  1  1  1  1  1  1  1  1\n",
      "95  1  1  1  1  1  1  1  1  1\n",
      "96  1  1  0  1  1  1  0  1  0\n",
      "97  1  1  1  1  1  1  1  1  1\n",
      "98  1  0  1  1  1  1  1  1  1\n",
      "99  1  1  1  1  1  1  1  1  1\n",
      "\n",
      "[100 rows x 9 columns]\n"
     ]
    },
    {
     "data": {
      "text/plain": [
       "0.5333333333333333"
      ]
     },
     "execution_count": 28,
     "metadata": {},
     "output_type": "execute_result"
    }
   ],
   "source": [
    "from sklearn.datasets import make_multilabel_classification\n",
    "from skmultilearn.problem_transform import BinaryRelevance\n",
    "from sklearn.naive_bayes import GaussianNB\n",
    "from sklearn.model_selection import train_test_split\n",
    "from sklearn.metrics import accuracy_score\n",
    "import pandas as pd\n",
    "import numpy as np\n",
    "\n",
    "# this will generate a random multi-label dataset\n",
    "X, y = make_multilabel_classification(sparse = True, n_labels = 20, n_classes=9,\n",
    "return_indicator = 'sparse', allow_unlabeled = False)\n",
    "\n",
    "X = pd.DataFrame(X.toarray())\n",
    "y = pd.DataFrame(y.toarray())\n",
    "\n",
    "print(y)\n",
    "\n",
    "X_train, X_test, Y_train, Y_test = train_test_split(X, y, test_size = 0.3, random_state = 0)\n",
    "\n",
    "# initialize binary relevance multi-label classifier\n",
    "# with a gaussian naive bayes base classifier\n",
    "classifier = BinaryRelevance(GaussianNB())\n",
    "\n",
    "classifier.fit(X_train, Y_train)\n",
    "\n",
    "# predict\n",
    "predictions = classifier.predict(X_test)\n",
    "\n",
    "accuracy_score(Y_test,predictions)"
   ]
  },
  {
   "cell_type": "code",
   "execution_count": 30,
   "metadata": {},
   "outputs": [],
   "source": [
    "data = [\n",
    "    [[0.1 , 0.6, 0.0, 0.3], 1, 10, 0, 0, 0],\n",
    "    [[0.7 , 0.3, 0.0, 0.0], 0, 7, 22, 0, 0],\n",
    "    [[0.0 , 0.0, 0.6, 0.4], 0, 0, 6, 0, 20],\n",
    "]\n",
    "\n",
    "X = np.array([d[1:] for d in data])\n",
    "yvalues = np.array([d[0] for d in data])"
   ]
  },
  {
   "cell_type": "code",
   "execution_count": 31,
   "metadata": {},
   "outputs": [
    {
     "data": {
      "text/plain": [
       "array([[0.1, 0.6, 0. , 0.3],\n",
       "       [0.7, 0.3, 0. , 0. ],\n",
       "       [0. , 0. , 0.6, 0.4]])"
      ]
     },
     "execution_count": 31,
     "metadata": {},
     "output_type": "execute_result"
    }
   ],
   "source": [
    "yvalues"
   ]
  },
  {
   "cell_type": "code",
   "execution_count": 33,
   "metadata": {},
   "outputs": [
    {
     "data": {
      "text/plain": [
       "array([[1, 1, 1, 0, 1, 0],\n",
       "       [1, 0, 1, 0, 0, 1],\n",
       "       [1, 0, 0, 1, 1, 0]])"
      ]
     },
     "execution_count": 33,
     "metadata": {},
     "output_type": "execute_result"
    }
   ],
   "source": [
    "# Create a binary array marking values as True or False\n",
    "from sklearn.preprocessing import MultiLabelBinarizer\n",
    "Y = MultiLabelBinarizer().fit_transform(yvalues)\n",
    "\n",
    "Y"
   ]
  },
  {
   "cell_type": "code",
   "execution_count": 5,
   "metadata": {},
   "outputs": [
    {
     "name": "stdout",
     "output_type": "stream",
     "text": [
      "(1000, 10) (1000,)\n"
     ]
    },
    {
     "data": {
      "text/plain": [
       "\"\\nrfc = RandomForestClassifier(n_jobs=-1,max_features= 'sqrt' ,n_estimators=50, oob_score = True) \\n\\nparam_grid = { \\n    'n_estimators': [200, 700],\\n    'max_features': ['auto', 'sqrt', 'log2']\\n}\\n\\nCV_rfc = GridSearchCV(estimator=rfc, param_grid=param_grid, cv= 5)\\nCV_rfc.fit(X, y)\\nprint (CV_rfc.best_params_)\\n\""
      ]
     },
     "execution_count": 5,
     "metadata": {},
     "output_type": "execute_result"
    }
   ],
   "source": [
    "from sklearn.model_selection import GridSearchCV\n",
    "from sklearn.datasets import make_classification\n",
    "from sklearn.ensemble import RandomForestClassifier\n",
    "\n",
    "# Build a classification task using 3 informative features\n",
    "X, y = make_classification(n_samples=1000,\n",
    "                           n_features=10,\n",
    "                           n_informative=3,\n",
    "                           n_redundant=0,\n",
    "                           n_repeated=0,\n",
    "                           n_classes=2,\n",
    "                           random_state=0,\n",
    "                           shuffle=False)\n",
    "\n",
    "print (X.shape, y.shape)\n",
    "'''\n",
    "rfc = RandomForestClassifier(n_jobs=-1,max_features= 'sqrt' ,n_estimators=50, oob_score = True) \n",
    "\n",
    "param_grid = { \n",
    "    'n_estimators': [200, 700],\n",
    "    'max_features': ['auto', 'sqrt', 'log2']\n",
    "}\n",
    "\n",
    "CV_rfc = GridSearchCV(estimator=rfc, param_grid=param_grid, cv= 5)\n",
    "CV_rfc.fit(X, y)\n",
    "print (CV_rfc.best_params_)\n",
    "'''"
   ]
  },
  {
   "cell_type": "code",
   "execution_count": null,
   "metadata": {},
   "outputs": [],
   "source": []
  }
 ],
 "metadata": {
  "kernelspec": {
   "display_name": "Python 3",
   "language": "python",
   "name": "python3"
  },
  "language_info": {
   "codemirror_mode": {
    "name": "ipython",
    "version": 3
   },
   "file_extension": ".py",
   "mimetype": "text/x-python",
   "name": "python",
   "nbconvert_exporter": "python",
   "pygments_lexer": "ipython3",
   "version": "3.7.3"
  }
 },
 "nbformat": 4,
 "nbformat_minor": 2
}
