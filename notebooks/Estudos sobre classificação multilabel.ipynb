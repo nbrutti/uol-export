{
 "cells": [
  {
   "cell_type": "code",
   "execution_count": 28,
   "metadata": {},
   "outputs": [
    {
     "name": "stdout",
     "output_type": "stream",
     "text": [
      "    0  1  2  3  4  5  6  7  8\n",
      "0   1  1  1  1  1  1  1  1  1\n",
      "1   1  0  1  1  1  1  0  1  1\n",
      "2   1  0  1  1  1  1  1  1  1\n",
      "3   1  1  1  1  1  1  1  1  1\n",
      "4   1  0  1  1  1  1  1  1  1\n",
      "5   1  1  1  1  1  1  1  1  1\n",
      "6   1  1  0  1  1  1  1  1  1\n",
      "7   1  1  0  1  1  1  0  1  1\n",
      "8   1  1  1  1  1  1  1  1  1\n",
      "9   1  1  1  1  1  1  1  1  1\n",
      "10  1  1  0  1  1  1  1  1  0\n",
      "11  1  1  1  1  1  1  1  1  1\n",
      "12  1  1  0  1  1  1  1  1  1\n",
      "13  1  1  1  1  1  1  1  1  1\n",
      "14  1  1  1  1  1  1  1  1  1\n",
      "15  1  1  1  1  1  1  1  1  1\n",
      "16  1  0  1  1  1  1  1  1  1\n",
      "17  1  1  1  1  1  1  1  1  1\n",
      "18  1  1  1  1  1  1  1  1  1\n",
      "19  1  1  1  1  1  1  1  1  1\n",
      "20  1  1  1  1  1  1  1  1  1\n",
      "21  0  0  1  1  1  1  1  1  0\n",
      "22  1  1  1  1  1  1  1  1  1\n",
      "23  1  1  1  1  1  1  1  1  1\n",
      "24  1  0  1  1  1  1  1  1  1\n",
      "25  1  0  1  1  1  1  1  1  1\n",
      "26  1  1  1  1  0  1  1  1  1\n",
      "27  1  0  1  1  1  1  1  1  1\n",
      "28  1  1  1  1  1  1  1  1  1\n",
      "29  1  0  1  1  1  1  1  1  1\n",
      ".. .. .. .. .. .. .. .. .. ..\n",
      "70  1  1  1  1  1  1  1  1  1\n",
      "71  0  1  0  1  1  1  1  1  1\n",
      "72  1  1  0  1  1  1  1  1  1\n",
      "73  1  1  1  1  1  1  1  1  1\n",
      "74  1  1  1  1  1  1  1  1  1\n",
      "75  1  1  1  1  1  1  1  1  1\n",
      "76  1  1  1  1  1  1  1  1  1\n",
      "77  1  1  1  1  1  1  1  1  1\n",
      "78  0  0  1  1  1  1  1  1  1\n",
      "79  1  1  1  1  1  1  1  1  1\n",
      "80  1  1  0  1  1  1  0  1  1\n",
      "81  1  0  0  1  1  1  1  1  1\n",
      "82  1  1  1  1  1  1  1  1  1\n",
      "83  1  1  1  1  1  1  1  1  1\n",
      "84  1  1  1  1  1  1  1  1  1\n",
      "85  1  1  1  1  1  1  1  1  1\n",
      "86  1  0  1  1  1  1  1  1  1\n",
      "87  1  1  0  1  1  1  1  1  1\n",
      "88  1  1  1  1  1  1  1  1  1\n",
      "89  1  1  1  1  1  1  1  1  1\n",
      "90  1  0  1  1  1  1  1  1  1\n",
      "91  1  1  0  1  1  1  1  1  1\n",
      "92  1  0  1  1  1  1  1  1  1\n",
      "93  1  1  1  1  1  1  1  1  1\n",
      "94  1  1  1  1  1  1  1  1  1\n",
      "95  1  1  1  1  1  1  1  1  1\n",
      "96  1  1  0  1  1  1  0  1  0\n",
      "97  1  1  1  1  1  1  1  1  1\n",
      "98  1  0  1  1  1  1  1  1  1\n",
      "99  1  1  1  1  1  1  1  1  1\n",
      "\n",
      "[100 rows x 9 columns]\n"
     ]
    },
    {
     "data": {
      "text/plain": [
       "0.5333333333333333"
      ]
     },
     "execution_count": 28,
     "metadata": {},
     "output_type": "execute_result"
    }
   ],
   "source": [
    "from sklearn.datasets import make_multilabel_classification\n",
    "from skmultilearn.problem_transform import BinaryRelevance\n",
    "from sklearn.naive_bayes import GaussianNB\n",
    "from sklearn.model_selection import train_test_split\n",
    "from sklearn.metrics import accuracy_score\n",
    "import pandas as pd\n",
    "import numpy as np\n",
    "\n",
    "# this will generate a random multi-label dataset\n",
    "X, y = make_multilabel_classification(sparse = True, n_labels = 20, n_classes=9,\n",
    "return_indicator = 'sparse', allow_unlabeled = False)\n",
    "\n",
    "X = pd.DataFrame(X.toarray())\n",
    "y = pd.DataFrame(y.toarray())\n",
    "\n",
    "print(y)\n",
    "\n",
    "X_train, X_test, Y_train, Y_test = train_test_split(X, y, test_size = 0.3, random_state = 0)\n",
    "\n",
    "# initialize binary relevance multi-label classifier\n",
    "# with a gaussian naive bayes base classifier\n",
    "classifier = BinaryRelevance(GaussianNB())\n",
    "\n",
    "classifier.fit(X_train, Y_train)\n",
    "\n",
    "# predict\n",
    "predictions = classifier.predict(X_test)\n",
    "\n",
    "accuracy_score(Y_test,predictions)"
   ]
  },
  {
   "cell_type": "code",
   "execution_count": 30,
   "metadata": {},
   "outputs": [],
   "source": [
    "data = [\n",
    "    [[0.1 , 0.6, 0.0, 0.3], 1, 10, 0, 0, 0],\n",
    "    [[0.7 , 0.3, 0.0, 0.0], 0, 7, 22, 0, 0],\n",
    "    [[0.0 , 0.0, 0.6, 0.4], 0, 0, 6, 0, 20],\n",
    "]\n",
    "\n",
    "X = np.array([d[1:] for d in data])\n",
    "yvalues = np.array([d[0] for d in data])"
   ]
  },
  {
   "cell_type": "code",
   "execution_count": 31,
   "metadata": {},
   "outputs": [
    {
     "data": {
      "text/plain": [
       "array([[0.1, 0.6, 0. , 0.3],\n",
       "       [0.7, 0.3, 0. , 0. ],\n",
       "       [0. , 0. , 0.6, 0.4]])"
      ]
     },
     "execution_count": 31,
     "metadata": {},
     "output_type": "execute_result"
    }
   ],
   "source": [
    "yvalues"
   ]
  },
  {
   "cell_type": "code",
   "execution_count": 33,
   "metadata": {},
   "outputs": [
    {
     "data": {
      "text/plain": [
       "array([[1, 1, 1, 0, 1, 0],\n",
       "       [1, 0, 1, 0, 0, 1],\n",
       "       [1, 0, 0, 1, 1, 0]])"
      ]
     },
     "execution_count": 33,
     "metadata": {},
     "output_type": "execute_result"
    }
   ],
   "source": [
    "# Create a binary array marking values as True or False\n",
    "from sklearn.preprocessing import MultiLabelBinarizer\n",
    "Y = MultiLabelBinarizer().fit_transform(yvalues)\n",
    "\n",
    "Y"
   ]
  }
 ],
 "metadata": {
  "kernelspec": {
   "display_name": "Python 3",
   "language": "python",
   "name": "python3"
  },
  "language_info": {
   "codemirror_mode": {
    "name": "ipython",
    "version": 3
   },
   "file_extension": ".py",
   "mimetype": "text/x-python",
   "name": "python",
   "nbconvert_exporter": "python",
   "pygments_lexer": "ipython3",
   "version": "3.6.7"
  }
 },
 "nbformat": 4,
 "nbformat_minor": 2
}
