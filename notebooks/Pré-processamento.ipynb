{
 "cells": [
  {
   "cell_type": "markdown",
   "metadata": {},
   "source": [
    "# Fase de pré-processamento"
   ]
  },
  {
   "cell_type": "markdown",
   "metadata": {},
   "source": [
    "- Entrada: arquivo exportado pelo scraper da UOL\n",
    "- Saída: Arquivo estruturado pronto para submissão ao modelo de aprendizagem"
   ]
  },
  {
   "cell_type": "code",
   "execution_count": 60,
   "metadata": {},
   "outputs": [],
   "source": [
    "import sys\n",
    "\n",
    "sys.path.append('..')\n",
    "\n",
    "from hyperparameters.TeamStrength import *\n",
    "from itertools import compress\n",
    "\n",
    "from enum import Enum\n",
    "import numpy as np\n",
    "import seaborn as sns\n",
    "import matplotlib.pyplot as plt\n",
    "import pandas as pd\n",
    "import json\n",
    "\n",
    "plt.style.use('seaborn')\n",
    "\n",
    "%matplotlib inline"
   ]
  },
  {
   "cell_type": "code",
   "execution_count": 2,
   "metadata": {
    "scrolled": false
   },
   "outputs": [],
   "source": [
    "# Carga do arquivo de saída do scraper\n",
    "file_src = '../output/br-league.json'\n",
    "\n",
    "with open(file_src) as f:\n",
    "    raw_data = json.load(f)\n",
    "\n",
    "class Seasons(Enum):\n",
    "    FIRST = 45\n",
    "    SECOND = 90\n",
    "    \n",
    "def getEventsInfo(events, team, season):\n",
    "    filtered = [(event[\"team\"] == team and int(event[\"time\"]) <= season.value) for event in events]\n",
    "    return filtered.count(True)\n",
    "\n",
    "def addTacticalType(s, data, i, is_home):\n",
    "    prefix = 'h' if is_home else 'a'\n",
    "    if (s == 'OFF'):\n",
    "        data[\"{}_substitution_{}_tactical_type_off\".format(prefix, i)] = 1\n",
    "        data[\"{}_substitution_{}_tactical_type_def\".format(prefix, i)] = 0\n",
    "        data[\"{}_substitution_{}_tactical_type_na\".format(prefix, i)] = 0\n",
    "    elif (s == 'DEF'):\n",
    "        data[\"{}_substitution_{}_tactical_type_off\".format(prefix, i)] = 0\n",
    "        data[\"{}_substitution_{}_tactical_type_def\".format(prefix, i)] = 1\n",
    "        data[\"{}_substitution_{}_tactical_type_na\".format(prefix, i)] = 0\n",
    "    else:\n",
    "        data[\"{}_substitution_{}_tactical_type_off\".format(prefix, i)] = 0\n",
    "        data[\"{}_substitution_{}_tactical_type_def\".format(prefix, i)] = 0\n",
    "        data[\"{}_substitution_{}_tactical_type_na\".format(prefix, i)] = 1\n",
    "\n",
    "def addInterval(t, data, i, is_home):\n",
    "    prefix = 'h' if is_home else 'a'\n",
    "    if (t >= 0 and t <= 15):\n",
    "        data[\"{}_substitution_{}_interval_0\".format(prefix, i)] = 1\n",
    "        data[\"{}_substitution_{}_interval_1\".format(prefix, i)] = 0\n",
    "        data[\"{}_substitution_{}_interval_2\".format(prefix, i)] = 0\n",
    "        data[\"{}_substitution_{}_interval_3\".format(prefix, i)] = 0\n",
    "        data[\"{}_substitution_{}_interval_4\".format(prefix, i)] = 0\n",
    "        data[\"{}_substitution_{}_interval_5\".format(prefix, i)] = 0\n",
    "    elif (t > 15 and t <= 30):\n",
    "        data[\"{}_substitution_{}_interval_0\".format(prefix, i)] = 0\n",
    "        data[\"{}_substitution_{}_interval_1\".format(prefix, i)] = 1\n",
    "        data[\"{}_substitution_{}_interval_2\".format(prefix, i)] = 0\n",
    "        data[\"{}_substitution_{}_interval_3\".format(prefix, i)] = 0\n",
    "        data[\"{}_substitution_{}_interval_4\".format(prefix, i)] = 0\n",
    "        data[\"{}_substitution_{}_interval_5\".format(prefix, i)] = 0\n",
    "    elif (t > 30 and t <= 45):\n",
    "        data[\"{}_substitution_{}_interval_0\".format(prefix, i)] = 0\n",
    "        data[\"{}_substitution_{}_interval_1\".format(prefix, i)] = 0\n",
    "        data[\"{}_substitution_{}_interval_2\".format(prefix, i)] = 1\n",
    "        data[\"{}_substitution_{}_interval_3\".format(prefix, i)] = 0\n",
    "        data[\"{}_substitution_{}_interval_4\".format(prefix, i)] = 0\n",
    "        data[\"{}_substitution_{}_interval_5\".format(prefix, i)] = 0\n",
    "    elif (t > 45 and t <= 60):\n",
    "        data[\"{}_substitution_{}_interval_0\".format(prefix, i)] = 0\n",
    "        data[\"{}_substitution_{}_interval_1\".format(prefix, i)] = 0\n",
    "        data[\"{}_substitution_{}_interval_2\".format(prefix, i)] = 0\n",
    "        data[\"{}_substitution_{}_interval_3\".format(prefix, i)] = 1\n",
    "        data[\"{}_substitution_{}_interval_4\".format(prefix, i)] = 0\n",
    "        data[\"{}_substitution_{}_interval_5\".format(prefix, i)] = 0\n",
    "    elif (t > 60 and t <= 75):\n",
    "        data[\"{}_substitution_{}_interval_0\".format(prefix, i)] = 0\n",
    "        data[\"{}_substitution_{}_interval_1\".format(prefix, i)] = 0\n",
    "        data[\"{}_substitution_{}_interval_2\".format(prefix, i)] = 0\n",
    "        data[\"{}_substitution_{}_interval_3\".format(prefix, i)] = 0\n",
    "        data[\"{}_substitution_{}_interval_4\".format(prefix, i)] = 1\n",
    "        data[\"{}_substitution_{}_interval_5\".format(prefix, i)] = 0\n",
    "    elif (t > 75 and t <= 90):\n",
    "        data[\"{}_substitution_{}_interval_0\".format(prefix, i)] = 0\n",
    "        data[\"{}_substitution_{}_interval_1\".format(prefix, i)] = 0\n",
    "        data[\"{}_substitution_{}_interval_2\".format(prefix, i)] = 0\n",
    "        data[\"{}_substitution_{}_interval_3\".format(prefix, i)] = 0\n",
    "        data[\"{}_substitution_{}_interval_4\".format(prefix, i)] = 0\n",
    "        data[\"{}_substitution_{}_interval_5\".format(prefix, i)] = 1\n",
    "        \n",
    "def getYearFromDate(date):\n",
    "    return date[:4]\n",
    "\n",
    "def getSubsInfoAndLabelsHome(data, substitutions):\n",
    "    MAX_SUBSTITUTIONS = 3\n",
    "    \n",
    "    # Home substitutions:\n",
    "    s = [subs[\"team\"] == data[\"home_team_name\"] for subs in substitutions]\n",
    "    d = list(compress(substitutions, s))\n",
    "\n",
    "    for i in range(MAX_SUBSTITUTIONS):\n",
    "        try:\n",
    "            data[\"h_substitution_{}_score_away\".format(i)] = d[i][\"score_away\"]\n",
    "            data[\"h_substitution_{}_score_home\".format(i)] = d[i][\"score_home\"]\n",
    "            data[\"h_substitution_{}_time\".format(i)] = 45 if d[i][\"time\"] == 'INTERVALO' else d[i][\"time\"]\n",
    "            data[\"h_substitution_{}_number\".format(i)] = d[i][\"number_of_sub\"]\n",
    "            data[\"h_substitution_{}_is_home\".format(i)] = 1 if d[i][\"team\"] == data[\"home_team_name\"] else 0\n",
    "            addInterval(int(d[i][\"time\"]), data, i, data[\"h_substitution_{}_is_home\".format(i)])\n",
    "            addTacticalType(d[i][\"tactical_type\"], data, i, data[\"h_substitution_{}_is_home\".format(i)])\n",
    "            data[\"y_{}_effectiveness\".format(i)] = d[i][\"effectiveness\"]\n",
    "            if (data[\"h_substitution_{}_interval_1\".format(i)] == None):\n",
    "                break\n",
    "        except:\n",
    "            data[\"h_substitution_{}_score_away\".format(i)] = 0\n",
    "            data[\"h_substitution_{}_score_home\".format(i)] = 0\n",
    "            data[\"h_substitution_{}_time\".format(i)] = 0\n",
    "            data[\"h_substitution_{}_number\".format(i)] = 0\n",
    "            data[\"h_substitution_{}_is_home\".format(i)] = 0\n",
    "            data[\"y_{}_effectiveness\".format(i)] = 0\n",
    "            data[\"h_substitution_{}_interval_0\".format(i)] = 0\n",
    "            data[\"h_substitution_{}_interval_1\".format(i)] = 0\n",
    "            data[\"h_substitution_{}_interval_2\".format(i)] = 0\n",
    "            data[\"h_substitution_{}_interval_3\".format(i)] = 0\n",
    "            data[\"h_substitution_{}_interval_4\".format(i)] = 0\n",
    "            data[\"h_substitution_{}_interval_5\".format(i)] = 0\n",
    "            data[\"h_substitution_{}_tactical_type_off\".format(i)] = 0\n",
    "            data[\"h_substitution_{}_tactical_type_def\".format(i)] = 0\n",
    "            data[\"h_substitution_{}_tactical_type_na\".format(i)] = 0\n",
    "            \n",
    "def getSubsInfoAndLabelsAway(data, substitutions):\n",
    "    MAX_SUBSTITUTIONS = 3\n",
    "    \n",
    "    # Home substitutions:\n",
    "    s = [subs[\"team\"] != data[\"home_team_name\"] for subs in substitutions]\n",
    "    d = list(compress(substitutions, s))\n",
    "\n",
    "    for i in range(MAX_SUBSTITUTIONS):\n",
    "        try:\n",
    "            data[\"a_substitution_{}_score_away\".format(i)] = d[i][\"score_away\"]\n",
    "            data[\"a_substitution_{}_score_home\".format(i)] = d[i][\"score_home\"]\n",
    "            data[\"a_substitution_{}_time\".format(i)] = 45 if d[i][\"time\"] == 'INTERVALO' else d[i][\"time\"]\n",
    "            data[\"a_substitution_{}_number\".format(i)] = d[i][\"number_of_sub\"]\n",
    "            data[\"a_substitution_{}_is_home\".format(i)] = 1 if d[i][\"team\"] == data[\"home_team_name\"] else 0\n",
    "            addInterval(int(d[i][\"time\"]), data, i, data[\"a_substitution_{}_is_home\".format(i)])\n",
    "            addTacticalType(d[i][\"tactical_type\"], data, i, data[\"a_substitution_{}_is_home\".format(i)])\n",
    "            #data[\"y_{}_effectiveness\".format(i)] = d[i][\"effectiveness\"]\n",
    "            if (data[\"a_substitution_{}_interval_1\".format(i)] == None):\n",
    "                break\n",
    "        except:\n",
    "            data[\"a_substitution_{}_score_away\".format(i)] = 0\n",
    "            data[\"a_substitution_{}_score_home\".format(i)] = 0\n",
    "            data[\"a_substitution_{}_time\".format(i)] = 0\n",
    "            data[\"a_substitution_{}_number\".format(i)] = 0\n",
    "            data[\"a_substitution_{}_is_home\".format(i)] = 0\n",
    "            #data[\"y_{}_effectiveness\".format(i)] = 0\n",
    "            data[\"a_substitution_{}_interval_0\".format(i)] = 0\n",
    "            data[\"a_substitution_{}_interval_1\".format(i)] = 0\n",
    "            data[\"a_substitution_{}_interval_2\".format(i)] = 0\n",
    "            data[\"a_substitution_{}_interval_3\".format(i)] = 0\n",
    "            data[\"a_substitution_{}_interval_4\".format(i)] = 0\n",
    "            data[\"a_substitution_{}_interval_5\".format(i)] = 0\n",
    "            data[\"a_substitution_{}_tactical_type_off\".format(i)] = 0\n",
    "            data[\"a_substitution_{}_tactical_type_def\".format(i)] = 0\n",
    "            data[\"a_substitution_{}_tactical_type_na\".format(i)] = 0\n",
    "            \n",
    "def dataFormatter(raw_data):\n",
    "    output = []\n",
    "    for d in raw_data:\n",
    "        data = {}\n",
    "        data[\"date\"] = d[\"date\"]\n",
    "        data[\"home_team_name\"] = d[\"home\"]\n",
    "        data[\"away_team_name\"] = d[\"away\"]\n",
    "        data[\"home_win\"] = d[\"home_win\"]\n",
    "        data[\"home_team_strength\"] = TeamStrength().buildParam(d[\"home\"], getYearFromDate(d[\"date\"]))\n",
    "        data[\"ycards_home_1st_season\"] = getEventsInfo(d[\"yellowcards\"],  d[\"home\"], Seasons.FIRST)\n",
    "        data[\"ycards_away_1st_season\"] = getEventsInfo(d[\"yellowcards\"],  d[\"away\"], Seasons.FIRST)\n",
    "        data[\"ycards_home_2nd_season\"] = getEventsInfo(d[\"yellowcards\"],  d[\"home\"], Seasons.SECOND)\n",
    "        data[\"ycards_away_2nd_season\"] = getEventsInfo(d[\"yellowcards\"],  d[\"away\"], Seasons.SECOND)\n",
    "        data[\"rcards_home_1st_season\"] = getEventsInfo(d[\"redcards\"],     d[\"home\"], Seasons.FIRST)\n",
    "        data[\"rcards_away_1st_season\"] = getEventsInfo(d[\"redcards\"],     d[\"away\"], Seasons.FIRST)\n",
    "        data[\"rcards_home_2nd_season\"] = getEventsInfo(d[\"redcards\"],     d[\"home\"], Seasons.SECOND)\n",
    "        data[\"rcards_away_2nd_season\"] = getEventsInfo(d[\"redcards\"],     d[\"away\"], Seasons.SECOND)\n",
    "        data[\"agoals_home_1st_season\"] = getEventsInfo(d[\"againstgoals\"], d[\"home\"], Seasons.FIRST)\n",
    "        data[\"agoals_away_1st_season\"] = getEventsInfo(d[\"againstgoals\"], d[\"away\"], Seasons.FIRST)\n",
    "        data[\"agoals_home_2nd_season\"] = getEventsInfo(d[\"againstgoals\"], d[\"home\"], Seasons.SECOND)\n",
    "        data[\"agoals_away_2nd_season\"] = getEventsInfo(d[\"againstgoals\"], d[\"away\"], Seasons.SECOND)\n",
    "        data[\"penaltys_home_1st_season\"] = getEventsInfo(d[\"penaltys\"],   d[\"home\"], Seasons.FIRST)\n",
    "        data[\"penaltys_away_1st_season\"] = getEventsInfo(d[\"penaltys\"],   d[\"away\"], Seasons.FIRST)\n",
    "        data[\"penaltys_home_2nd_season\"] = getEventsInfo(d[\"penaltys\"],   d[\"home\"], Seasons.SECOND)\n",
    "        data[\"penaltys_away_2nd_season\"] = getEventsInfo(d[\"penaltys\"],   d[\"away\"], Seasons.SECOND)\n",
    "        getSubsInfoAndLabelsHome(data, d[\"substitutions\"])\n",
    "        getSubsInfoAndLabelsAway(data, d[\"substitutions\"])\n",
    "        output.append(data)\n",
    "    return output\n",
    "    \n",
    "data = dataFormatter(raw_data)\n",
    "json_stringify = json.dumps(data)\n",
    "df = pd.read_json(json_stringify)"
   ]
  },
  {
   "cell_type": "code",
   "execution_count": 3,
   "metadata": {},
   "outputs": [
    {
     "data": {
      "text/plain": [
       "<matplotlib.axes._subplots.AxesSubplot at 0x7fced51487b8>"
      ]
     },
     "execution_count": 3,
     "metadata": {},
     "output_type": "execute_result"
    },
    {
     "data": {
      "image/png": "[encoded data removed]",
      "text/plain": [
       "<Figure size 720x720 with 1 Axes>"
      ]
     },
     "metadata": {
      "needs_background": "light"
     },
     "output_type": "display_data"
    }
   ],
   "source": [
    "df[\"home_win\"].value_counts().plot.bar(rot=0, figsize=(10,10), fontsize=14)"
   ]
  },
  {
   "cell_type": "code",
   "execution_count": 4,
   "metadata": {
    "scrolled": true
   },
   "outputs": [
    {
     "name": "stdout",
     "output_type": "stream",
     "text": [
      "<class 'pandas.core.frame.DataFrame'>\n",
      "Int64Index: 718 entries, 0 to 1420\n",
      "Columns: 108 entries, a_substitution_0_interval_0 to ycards_home_2nd_season\n",
      "dtypes: float64(1), int64(105), object(2)\n",
      "memory usage: 611.4+ KB\n"
     ]
    }
   ],
   "source": [
    "# O estudo se concentrará nos casos onde o time da casa venceu. Portanto será feito o split no dataset\n",
    "# para trabalhar com os 718 casos.\n",
    "\n",
    "df = df[df[\"home_win\"] == 1]\n",
    "df.info()"
   ]
  },
  {
   "cell_type": "code",
   "execution_count": 5,
   "metadata": {
    "scrolled": true
   },
   "outputs": [
    {
     "data": {
      "text/plain": [
       "<matplotlib.axes._subplots.AxesSubplot at 0x7fced19338d0>"
      ]
     },
     "execution_count": 5,
     "metadata": {},
     "output_type": "execute_result"
    },
    {
     "data": {
      "image/png": "[encoded data removed]",
      "text/plain": [
       "<Figure size 432x288 with 1 Axes>"
      ]
     },
     "metadata": {
      "needs_background": "light"
     },
     "output_type": "display_data"
    }
   ],
   "source": [
    "df_filtered = df[df[\"h_substitution_0_time\"] != 0]\n",
    "df_filtered[\"h_substitution_0_time\"].apply(lambda x : 45 if x == 'INTERVALO' else int(x)).plot.hist()"
   ]
  },
  {
   "cell_type": "code",
   "execution_count": 6,
   "metadata": {},
   "outputs": [
    {
     "data": {
      "text/plain": [
       "<matplotlib.axes._subplots.AxesSubplot at 0x7fced1933080>"
      ]
     },
     "execution_count": 6,
     "metadata": {},
     "output_type": "execute_result"
    },
    {
     "data": {
      "image/png": "[encoded data removed]",
      "text/plain": [
       "<Figure size 432x288 with 1 Axes>"
      ]
     },
     "metadata": {
      "needs_background": "light"
     },
     "output_type": "display_data"
    }
   ],
   "source": [
    "df_filtered = df[df[\"h_substitution_1_time\"] != 0]\n",
    "df_filtered[\"h_substitution_1_time\"].apply(lambda x : 45 if x == 'INTERVALO' else int(x)).plot.hist()"
   ]
  },
  {
   "cell_type": "code",
   "execution_count": 7,
   "metadata": {},
   "outputs": [
    {
     "data": {
      "text/plain": [
       "<matplotlib.axes._subplots.AxesSubplot at 0x7fced1a6f400>"
      ]
     },
     "execution_count": 7,
     "metadata": {},
     "output_type": "execute_result"
    },
    {
     "data": {
      "image/png": "[encoded data removed]",
      "text/plain": [
       "<Figure size 432x288 with 1 Axes>"
      ]
     },
     "metadata": {
      "needs_background": "light"
     },
     "output_type": "display_data"
    }
   ],
   "source": [
    "df_filtered = df[df[\"h_substitution_2_time\"] != 0]\n",
    "df_filtered[\"h_substitution_2_time\"].apply(lambda x : 45 if x == 'INTERVALO' else int(x)).plot.hist()"
   ]
  },
  {
   "cell_type": "code",
   "execution_count": 8,
   "metadata": {},
   "outputs": [],
   "source": [
    "from sklearn.model_selection import train_test_split\n",
    "\n",
    "target_columns = [\n",
    "    'y_0_effectiveness',\n",
    "    'y_1_effectiveness',\n",
    "    'y_2_effectiveness'\n",
    "]\n",
    "\n",
    "Y = df.filter(target_columns, axis=1)\n",
    "try:\n",
    "    X = df.drop(columns=target_columns, axis=1, inplace=True)\n",
    "except:\n",
    "    pass\n",
    "X = df.drop(columns=(['away_team_name', 'home_team_name', 'date']), axis=1)\n",
    "X_train, X_test, Y_train, Y_test = train_test_split(X, Y, test_size = 0.3, random_state = 42)"
   ]
  },
  {
   "cell_type": "code",
   "execution_count": 9,
   "metadata": {
    "scrolled": false
   },
   "outputs": [
    {
     "data": {
      "text/html": [
       "<div>\n",
       "<style scoped>\n",
       "    .dataframe tbody tr th:only-of-type {\n",
       "        vertical-align: middle;\n",
       "    }\n",
       "\n",
       "    .dataframe tbody tr th {\n",
       "        vertical-align: top;\n",
       "    }\n",
       "\n",
       "    .dataframe thead th {\n",
       "        text-align: right;\n",
       "    }\n",
       "</style>\n",
       "<table border=\"1\" class=\"dataframe\">\n",
       "  <thead>\n",
       "    <tr style=\"text-align: right;\">\n",
       "      <th></th>\n",
       "      <th>a_substitution_0_interval_0</th>\n",
       "      <th>a_substitution_0_interval_1</th>\n",
       "      <th>a_substitution_0_interval_2</th>\n",
       "      <th>a_substitution_0_interval_3</th>\n",
       "      <th>a_substitution_0_interval_4</th>\n",
       "      <th>a_substitution_0_interval_5</th>\n",
       "      <th>a_substitution_0_is_home</th>\n",
       "      <th>a_substitution_0_number</th>\n",
       "      <th>a_substitution_0_score_away</th>\n",
       "      <th>a_substitution_0_score_home</th>\n",
       "      <th>...</th>\n",
       "      <th>penaltys_home_1st_season</th>\n",
       "      <th>penaltys_home_2nd_season</th>\n",
       "      <th>rcards_away_1st_season</th>\n",
       "      <th>rcards_away_2nd_season</th>\n",
       "      <th>rcards_home_1st_season</th>\n",
       "      <th>rcards_home_2nd_season</th>\n",
       "      <th>ycards_away_1st_season</th>\n",
       "      <th>ycards_away_2nd_season</th>\n",
       "      <th>ycards_home_1st_season</th>\n",
       "      <th>ycards_home_2nd_season</th>\n",
       "    </tr>\n",
       "  </thead>\n",
       "  <tbody>\n",
       "    <tr>\n",
       "      <th>75</th>\n",
       "      <td>0</td>\n",
       "      <td>0</td>\n",
       "      <td>0</td>\n",
       "      <td>0</td>\n",
       "      <td>0</td>\n",
       "      <td>0</td>\n",
       "      <td>0</td>\n",
       "      <td>0</td>\n",
       "      <td>0</td>\n",
       "      <td>0</td>\n",
       "      <td>...</td>\n",
       "      <td>0</td>\n",
       "      <td>0</td>\n",
       "      <td>0</td>\n",
       "      <td>0</td>\n",
       "      <td>0</td>\n",
       "      <td>0</td>\n",
       "      <td>1</td>\n",
       "      <td>6</td>\n",
       "      <td>0</td>\n",
       "      <td>2</td>\n",
       "    </tr>\n",
       "    <tr>\n",
       "      <th>73</th>\n",
       "      <td>0</td>\n",
       "      <td>1</td>\n",
       "      <td>0</td>\n",
       "      <td>0</td>\n",
       "      <td>0</td>\n",
       "      <td>0</td>\n",
       "      <td>0</td>\n",
       "      <td>1</td>\n",
       "      <td>0</td>\n",
       "      <td>0</td>\n",
       "      <td>...</td>\n",
       "      <td>0</td>\n",
       "      <td>0</td>\n",
       "      <td>0</td>\n",
       "      <td>0</td>\n",
       "      <td>0</td>\n",
       "      <td>0</td>\n",
       "      <td>0</td>\n",
       "      <td>2</td>\n",
       "      <td>0</td>\n",
       "      <td>1</td>\n",
       "    </tr>\n",
       "    <tr>\n",
       "      <th>137</th>\n",
       "      <td>0</td>\n",
       "      <td>0</td>\n",
       "      <td>1</td>\n",
       "      <td>0</td>\n",
       "      <td>0</td>\n",
       "      <td>0</td>\n",
       "      <td>0</td>\n",
       "      <td>1</td>\n",
       "      <td>0</td>\n",
       "      <td>0</td>\n",
       "      <td>...</td>\n",
       "      <td>1</td>\n",
       "      <td>1</td>\n",
       "      <td>1</td>\n",
       "      <td>1</td>\n",
       "      <td>0</td>\n",
       "      <td>0</td>\n",
       "      <td>2</td>\n",
       "      <td>2</td>\n",
       "      <td>0</td>\n",
       "      <td>1</td>\n",
       "    </tr>\n",
       "    <tr>\n",
       "      <th>323</th>\n",
       "      <td>0</td>\n",
       "      <td>0</td>\n",
       "      <td>0</td>\n",
       "      <td>1</td>\n",
       "      <td>0</td>\n",
       "      <td>0</td>\n",
       "      <td>0</td>\n",
       "      <td>1</td>\n",
       "      <td>0</td>\n",
       "      <td>1</td>\n",
       "      <td>...</td>\n",
       "      <td>0</td>\n",
       "      <td>0</td>\n",
       "      <td>0</td>\n",
       "      <td>0</td>\n",
       "      <td>0</td>\n",
       "      <td>0</td>\n",
       "      <td>1</td>\n",
       "      <td>3</td>\n",
       "      <td>3</td>\n",
       "      <td>4</td>\n",
       "    </tr>\n",
       "    <tr>\n",
       "      <th>680</th>\n",
       "      <td>0</td>\n",
       "      <td>0</td>\n",
       "      <td>0</td>\n",
       "      <td>0</td>\n",
       "      <td>1</td>\n",
       "      <td>0</td>\n",
       "      <td>0</td>\n",
       "      <td>1</td>\n",
       "      <td>0</td>\n",
       "      <td>1</td>\n",
       "      <td>...</td>\n",
       "      <td>0</td>\n",
       "      <td>0</td>\n",
       "      <td>0</td>\n",
       "      <td>0</td>\n",
       "      <td>0</td>\n",
       "      <td>0</td>\n",
       "      <td>2</td>\n",
       "      <td>3</td>\n",
       "      <td>2</td>\n",
       "      <td>3</td>\n",
       "    </tr>\n",
       "  </tbody>\n",
       "</table>\n",
       "<p>5 rows × 102 columns</p>\n",
       "</div>"
      ],
      "text/plain": [
       "     a_substitution_0_interval_0  a_substitution_0_interval_1  \\\n",
       "75                             0                            0   \n",
       "73                             0                            1   \n",
       "137                            0                            0   \n",
       "323                            0                            0   \n",
       "680                            0                            0   \n",
       "\n",
       "     a_substitution_0_interval_2  a_substitution_0_interval_3  \\\n",
       "75                             0                            0   \n",
       "73                             0                            0   \n",
       "137                            1                            0   \n",
       "323                            0                            1   \n",
       "680                            0                            0   \n",
       "\n",
       "     a_substitution_0_interval_4  a_substitution_0_interval_5  \\\n",
       "75                             0                            0   \n",
       "73                             0                            0   \n",
       "137                            0                            0   \n",
       "323                            0                            0   \n",
       "680                            1                            0   \n",
       "\n",
       "     a_substitution_0_is_home  a_substitution_0_number  \\\n",
       "75                          0                        0   \n",
       "73                          0                        1   \n",
       "137                         0                        1   \n",
       "323                         0                        1   \n",
       "680                         0                        1   \n",
       "\n",
       "     a_substitution_0_score_away  a_substitution_0_score_home  ...  \\\n",
       "75                             0                            0  ...   \n",
       "73                             0                            0  ...   \n",
       "137                            0                            0  ...   \n",
       "323                            0                            1  ...   \n",
       "680                            0                            1  ...   \n",
       "\n",
       "     penaltys_home_1st_season  penaltys_home_2nd_season  \\\n",
       "75                          0                         0   \n",
       "73                          0                         0   \n",
       "137                         1                         1   \n",
       "323                         0                         0   \n",
       "680                         0                         0   \n",
       "\n",
       "     rcards_away_1st_season  rcards_away_2nd_season  rcards_home_1st_season  \\\n",
       "75                        0                       0                       0   \n",
       "73                        0                       0                       0   \n",
       "137                       1                       1                       0   \n",
       "323                       0                       0                       0   \n",
       "680                       0                       0                       0   \n",
       "\n",
       "     rcards_home_2nd_season  ycards_away_1st_season  ycards_away_2nd_season  \\\n",
       "75                        0                       1                       6   \n",
       "73                        0                       0                       2   \n",
       "137                       0                       2                       2   \n",
       "323                       0                       1                       3   \n",
       "680                       0                       2                       3   \n",
       "\n",
       "     ycards_home_1st_season  ycards_home_2nd_season  \n",
       "75                        0                       2  \n",
       "73                        0                       1  \n",
       "137                       0                       1  \n",
       "323                       3                       4  \n",
       "680                       2                       3  \n",
       "\n",
       "[5 rows x 102 columns]"
      ]
     },
     "execution_count": 9,
     "metadata": {},
     "output_type": "execute_result"
    }
   ],
   "source": [
    "X_train.head()"
   ]
  },
  {
   "cell_type": "code",
   "execution_count": 12,
   "metadata": {},
   "outputs": [],
   "source": [
    "from skmultilearn.problem_transform import LabelPowerset\n",
    "\n",
    "target = {}\n",
    "\n",
    "# Transformação dos dados multilabel para uma classe\n",
    "target[\"y\"], target[\"y_test\"], target[\"y_train\"] = LabelPowerset().transform(Y), \\\n",
    "                                                   LabelPowerset().transform(Y_test), \\\n",
    "                                                   LabelPowerset().transform(Y_train)"
   ]
  },
  {
   "cell_type": "markdown",
   "metadata": {},
   "source": [
    "## Visualização da distribuição do target (y_train)"
   ]
  },
  {
   "cell_type": "code",
   "execution_count": 13,
   "metadata": {},
   "outputs": [
    {
     "data": {
      "text/plain": [
       "<matplotlib.axes._subplots.AxesSubplot at 0x7fcecf5faac8>"
      ]
     },
     "execution_count": 13,
     "metadata": {},
     "output_type": "execute_result"
    },
    {
     "data": {
      "image/png": "[encoded data removed]",
      "text/plain": [
       "<Figure size 864x432 with 1 Axes>"
      ]
     },
     "metadata": {},
     "output_type": "display_data"
    }
   ],
   "source": [
    "target_view = pd.DataFrame(columns=['Classe'], data=target[\"y\"])\n",
    "target_view['Classe'].value_counts().plot(kind='pie', figsize=(12,6), fontsize=14, title='Distribuição de classes', colormap='inferno')"
   ]
  },
  {
   "cell_type": "markdown",
   "metadata": {},
   "source": [
    "# Feature selection"
   ]
  },
  {
   "cell_type": "code",
   "execution_count": 100,
   "metadata": {},
   "outputs": [
    {
     "name": "stderr",
     "output_type": "stream",
     "text": [
      "/usr/local/lib/python3.7/dist-packages/sklearn/feature_selection/univariate_selection.py:114: UserWarning: Features [ 6 20 28 29 30 34 60 61 62 74 75 76 89] are constant.\n",
      "  UserWarning)\n",
      "/usr/local/lib/python3.7/dist-packages/sklearn/feature_selection/univariate_selection.py:115: RuntimeWarning: invalid value encountered in true_divide\n",
      "  f = msb / msw\n"
     ]
    },
    {
     "data": {
      "text/html": [
       "<div>\n",
       "<style scoped>\n",
       "    .dataframe tbody tr th:only-of-type {\n",
       "        vertical-align: middle;\n",
       "    }\n",
       "\n",
       "    .dataframe tbody tr th {\n",
       "        vertical-align: top;\n",
       "    }\n",
       "\n",
       "    .dataframe thead th {\n",
       "        text-align: right;\n",
       "    }\n",
       "</style>\n",
       "<table border=\"1\" class=\"dataframe\">\n",
       "  <thead>\n",
       "    <tr style=\"text-align: right;\">\n",
       "      <th></th>\n",
       "      <th>0</th>\n",
       "      <th>1</th>\n",
       "      <th>2</th>\n",
       "      <th>3</th>\n",
       "      <th>4</th>\n",
       "      <th>5</th>\n",
       "      <th>6</th>\n",
       "      <th>7</th>\n",
       "      <th>8</th>\n",
       "      <th>9</th>\n",
       "      <th>...</th>\n",
       "      <th>16</th>\n",
       "      <th>17</th>\n",
       "      <th>18</th>\n",
       "      <th>19</th>\n",
       "      <th>20</th>\n",
       "      <th>21</th>\n",
       "      <th>22</th>\n",
       "      <th>23</th>\n",
       "      <th>24</th>\n",
       "      <th>25</th>\n",
       "    </tr>\n",
       "  </thead>\n",
       "  <tbody>\n",
       "    <tr>\n",
       "      <th>0</th>\n",
       "      <td>0.0</td>\n",
       "      <td>0.0</td>\n",
       "      <td>0.0</td>\n",
       "      <td>0.0</td>\n",
       "      <td>0.0</td>\n",
       "      <td>0.0</td>\n",
       "      <td>0.0</td>\n",
       "      <td>0.0</td>\n",
       "      <td>0.0</td>\n",
       "      <td>0.0</td>\n",
       "      <td>...</td>\n",
       "      <td>1.0</td>\n",
       "      <td>0.0</td>\n",
       "      <td>1.0</td>\n",
       "      <td>3.0</td>\n",
       "      <td>0.0</td>\n",
       "      <td>2.0</td>\n",
       "      <td>0.0</td>\n",
       "      <td>1.0</td>\n",
       "      <td>0.0</td>\n",
       "      <td>77.0</td>\n",
       "    </tr>\n",
       "    <tr>\n",
       "      <th>1</th>\n",
       "      <td>0.0</td>\n",
       "      <td>0.0</td>\n",
       "      <td>0.0</td>\n",
       "      <td>0.0</td>\n",
       "      <td>1.0</td>\n",
       "      <td>1.0</td>\n",
       "      <td>0.0</td>\n",
       "      <td>1.0</td>\n",
       "      <td>63.0</td>\n",
       "      <td>0.0</td>\n",
       "      <td>...</td>\n",
       "      <td>0.0</td>\n",
       "      <td>0.0</td>\n",
       "      <td>1.0</td>\n",
       "      <td>3.0</td>\n",
       "      <td>0.0</td>\n",
       "      <td>1.0</td>\n",
       "      <td>1.0</td>\n",
       "      <td>0.0</td>\n",
       "      <td>0.0</td>\n",
       "      <td>81.0</td>\n",
       "    </tr>\n",
       "    <tr>\n",
       "      <th>2</th>\n",
       "      <td>0.0</td>\n",
       "      <td>0.0</td>\n",
       "      <td>0.0</td>\n",
       "      <td>0.0</td>\n",
       "      <td>1.0</td>\n",
       "      <td>1.0</td>\n",
       "      <td>0.0</td>\n",
       "      <td>0.0</td>\n",
       "      <td>70.0</td>\n",
       "      <td>0.0</td>\n",
       "      <td>...</td>\n",
       "      <td>1.0</td>\n",
       "      <td>0.0</td>\n",
       "      <td>1.0</td>\n",
       "      <td>3.0</td>\n",
       "      <td>0.0</td>\n",
       "      <td>2.0</td>\n",
       "      <td>1.0</td>\n",
       "      <td>0.0</td>\n",
       "      <td>0.0</td>\n",
       "      <td>88.0</td>\n",
       "    </tr>\n",
       "    <tr>\n",
       "      <th>3</th>\n",
       "      <td>0.0</td>\n",
       "      <td>0.0</td>\n",
       "      <td>0.0</td>\n",
       "      <td>0.0</td>\n",
       "      <td>0.0</td>\n",
       "      <td>0.0</td>\n",
       "      <td>0.0</td>\n",
       "      <td>0.0</td>\n",
       "      <td>0.0</td>\n",
       "      <td>0.0</td>\n",
       "      <td>...</td>\n",
       "      <td>0.0</td>\n",
       "      <td>1.0</td>\n",
       "      <td>1.0</td>\n",
       "      <td>3.0</td>\n",
       "      <td>0.0</td>\n",
       "      <td>2.0</td>\n",
       "      <td>0.0</td>\n",
       "      <td>1.0</td>\n",
       "      <td>0.0</td>\n",
       "      <td>73.0</td>\n",
       "    </tr>\n",
       "    <tr>\n",
       "      <th>4</th>\n",
       "      <td>0.0</td>\n",
       "      <td>0.0</td>\n",
       "      <td>0.0</td>\n",
       "      <td>0.0</td>\n",
       "      <td>1.0</td>\n",
       "      <td>1.0</td>\n",
       "      <td>1.0</td>\n",
       "      <td>0.0</td>\n",
       "      <td>84.0</td>\n",
       "      <td>0.0</td>\n",
       "      <td>...</td>\n",
       "      <td>0.0</td>\n",
       "      <td>0.0</td>\n",
       "      <td>0.0</td>\n",
       "      <td>0.0</td>\n",
       "      <td>0.0</td>\n",
       "      <td>0.0</td>\n",
       "      <td>0.0</td>\n",
       "      <td>0.0</td>\n",
       "      <td>0.0</td>\n",
       "      <td>0.0</td>\n",
       "    </tr>\n",
       "  </tbody>\n",
       "</table>\n",
       "<p>5 rows × 26 columns</p>\n",
       "</div>"
      ],
      "text/plain": [
       "    0    1    2    3    4    5    6    7     8    9   ...   16   17   18   19  \\\n",
       "0  0.0  0.0  0.0  0.0  0.0  0.0  0.0  0.0   0.0  0.0  ...  1.0  0.0  1.0  3.0   \n",
       "1  0.0  0.0  0.0  0.0  1.0  1.0  0.0  1.0  63.0  0.0  ...  0.0  0.0  1.0  3.0   \n",
       "2  0.0  0.0  0.0  0.0  1.0  1.0  0.0  0.0  70.0  0.0  ...  1.0  0.0  1.0  3.0   \n",
       "3  0.0  0.0  0.0  0.0  0.0  0.0  0.0  0.0   0.0  0.0  ...  0.0  1.0  1.0  3.0   \n",
       "4  0.0  0.0  0.0  0.0  1.0  1.0  1.0  0.0  84.0  0.0  ...  0.0  0.0  0.0  0.0   \n",
       "\n",
       "    20   21   22   23   24    25  \n",
       "0  0.0  2.0  0.0  1.0  0.0  77.0  \n",
       "1  0.0  1.0  1.0  0.0  0.0  81.0  \n",
       "2  0.0  2.0  1.0  0.0  0.0  88.0  \n",
       "3  0.0  2.0  0.0  1.0  0.0  73.0  \n",
       "4  0.0  0.0  0.0  0.0  0.0   0.0  \n",
       "\n",
       "[5 rows x 26 columns]"
      ]
     },
     "execution_count": 100,
     "metadata": {},
     "output_type": "execute_result"
    }
   ],
   "source": [
    "# Links úteis http://minerandodados.com.br/index.php/2018/05/21/feature-selection-bala-de-prata/\n",
    "\n",
    "PERCENTILE = 25\n",
    "\n",
    "from skmultilearn.problem_transform import LabelPowerset\n",
    "from sklearn.feature_selection import SelectPercentile, f_classif\n",
    "\n",
    "fs = SelectPercentile(f_classif, percentile=PERCENTILE)\n",
    "fs.fit(X_train, target[\"y_train\"])\n",
    "X_train_fs = fs.transform(X_train)\n",
    "X_test_fs = fs.transform(X_test)\n",
    "x = pd.DataFrame(X_train_fs)\n",
    "x.head()\n"
   ]
  },
  {
   "cell_type": "code",
   "execution_count": 101,
   "metadata": {
    "scrolled": true
   },
   "outputs": [
    {
     "data": {
      "text/plain": [
       "<matplotlib.image.AxesImage at 0x7fcecf601f60>"
      ]
     },
     "execution_count": 101,
     "metadata": {},
     "output_type": "execute_result"
    },
    {
     "data": {
      "image/png": "[encoded data removed]",
      "text/plain": [
       "<Figure size 1152x144 with 1 Axes>"
      ]
     },
     "metadata": {
      "needs_background": "light"
     },
     "output_type": "display_data"
    }
   ],
   "source": [
    "mask = fs.get_support()\n",
    "plt.matshow(mask.reshape(1, -1), cmap='gray_r')"
   ]
  },
  {
   "cell_type": "markdown",
   "metadata": {},
   "source": [
    "# Implementação e avaliação dos Classificadores"
   ]
  },
  {
   "cell_type": "code",
   "execution_count": 199,
   "metadata": {
    "scrolled": true
   },
   "outputs": [
    {
     "name": "stderr",
     "output_type": "stream",
     "text": [
      "/usr/local/lib/python3.7/dist-packages/sklearn/model_selection/_search.py:813: DeprecationWarning: The default of the `iid` parameter will change from True to False in version 0.22 and will be removed in 0.24. This will change numeric results when test-set sizes are unequal.\n",
      "  DeprecationWarning)\n"
     ]
    },
    {
     "data": {
      "text/plain": [
       "GridSearchCV(cv=5, error_score='raise-deprecating',\n",
       "             estimator=LabelPowerset(classifier=None,\n",
       "                                     require_dense=[True, True]),\n",
       "             iid='warn', n_jobs=None,\n",
       "             param_grid=[{'classifier': [RandomForestClassifier(bootstrap=True,\n",
       "                                                                class_weight=None,\n",
       "                                                                criterion='gini',\n",
       "                                                                max_depth=10,\n",
       "                                                                max_features=0.3,\n",
       "                                                                max_leaf_nodes=None,\n",
       "                                                                min_impurity_decrease=0.0,\n",
       "                                                                min_impurity_split=None,\n",
       "                                                                min_sample...\n",
       "                                             decision_function_shape='ovr',\n",
       "                                             degree=3, gamma=1, kernel='linear',\n",
       "                                             max_iter=-1, probability=False,\n",
       "                                             random_state=None, shrinking=True,\n",
       "                                             tol=0.001, verbose=False)],\n",
       "                          'classifier__C': [1, 10, 100, 1000],\n",
       "                          'classifier__gamma': [1, 0.1, 0.001, 0.0001],\n",
       "                          'classifier__kernel': ['linear', 'rbf']}],\n",
       "             pre_dispatch='2*n_jobs', refit=True, return_train_score=False,\n",
       "             scoring='accuracy', verbose=0)"
      ]
     },
     "execution_count": 199,
     "metadata": {},
     "output_type": "execute_result"
    }
   ],
   "source": [
    "from sklearn.metrics import classification_report, accuracy_score, hamming_loss\n",
    "\n",
    "from skmultilearn.problem_transform import LabelPowerset\n",
    "from sklearn.ensemble import RandomForestClassifier\n",
    "from sklearn.neighbors import KNeighborsClassifier\n",
    "from sklearn.svm import SVC\n",
    "\n",
    "from sklearn.model_selection import GridSearchCV\n",
    "\n",
    "parameters = [\n",
    "    {\n",
    "        \"classifier\": [RandomForestClassifier()],\n",
    "        \"classifier__criterion\": ['entropy', 'gini'],\n",
    "        \"classifier__n_estimators\": [25, 50, 75],\n",
    "        \"classifier__bootstrap\": [False, True],\n",
    "        \"classifier__max_depth\": [3, 5, 10],\n",
    "        \"classifier__max_features\": ['auto', 0.1, 0.2, 0.3]\n",
    "    },\n",
    "    {\n",
    "        \"classifier\": [KNeighborsClassifier()],\n",
    "        \"classifier__algorithm\": ['ball_tree', 'kd_tree', 'brute'],\n",
    "        \"classifier__n_neighbors\": [3, 5, 11, 19],\n",
    "        \"classifier__weights\": ['uniform', 'distance'],\n",
    "    },\n",
    "    {\n",
    "        \"classifier\": [SVC()],\n",
    "        \"classifier__C\": [1, 10, 100, 1000],\n",
    "        \"classifier__gamma\": [1, 0.1, 0.001, 0.0001],\n",
    "        \"classifier__kernel\": ['linear','rbf']\n",
    "    }\n",
    "]\n",
    "\n",
    "temp = target[\"y_train\"]\n",
    "\n",
    "clf = GridSearchCV(LabelPowerset(), parameters, scoring=\"accuracy\", cv=5)\n",
    "clf.fit(X_train_fs, Y_train)"
   ]
  },
  {
   "cell_type": "code",
   "execution_count": 215,
   "metadata": {
    "scrolled": true
   },
   "outputs": [
    {
     "name": "stdout",
     "output_type": "stream",
     "text": [
      "              precision    recall  f1-score   support\n",
      "\n",
      "           0       0.94      0.72      0.81        81\n",
      "           1       0.77      0.90      0.83        84\n",
      "           2       0.91      0.77      0.84        93\n",
      "\n",
      "   micro avg       0.86      0.80      0.83       258\n",
      "   macro avg       0.87      0.80      0.83       258\n",
      "weighted avg       0.87      0.80      0.83       258\n",
      " samples avg       0.68      0.66      0.66       258\n",
      "\n",
      "Accuracy score: 0.629630\n",
      "Best params: {'bootstrap': False, 'criterion': 'gini', 'max_depth': 5, 'max_features': 'auto', 'n_estimators': 50}\n",
      "\n"
     ]
    },
    {
     "name": "stderr",
     "output_type": "stream",
     "text": [
      "/usr/local/lib/python3.7/dist-packages/sklearn/metrics/classification.py:1437: UndefinedMetricWarning: Precision and F-score are ill-defined and being set to 0.0 in samples with no predicted labels.\n",
      "  'precision', 'predicted', average, warn_for)\n",
      "/usr/local/lib/python3.7/dist-packages/sklearn/metrics/classification.py:1439: UndefinedMetricWarning: Recall and F-score are ill-defined and being set to 0.0 in samples with no true labels.\n",
      "  'recall', 'true', average, warn_for)\n"
     ]
    }
   ],
   "source": [
    "pred = clf.predict(X_test_fs)\n",
    "\n",
    "print(classification_report(Y_test, pred))\n",
    "print(\"Accuracy score: {:.6f}\".format(accuracy_score(Y_test, pred)))\n",
    "print(\"Best params: {}\\n\".format(grid_search.best_params_))"
   ]
  },
  {
   "cell_type": "code",
   "execution_count": null,
   "metadata": {},
   "outputs": [],
   "source": []
  }
 ],
 "metadata": {
  "kernelspec": {
   "display_name": "Python 3",
   "language": "python",
   "name": "python3"
  },
  "language_info": {
   "codemirror_mode": {
    "name": "ipython",
    "version": 3
   },
   "file_extension": ".py",
   "mimetype": "text/x-python",
   "name": "python",
   "nbconvert_exporter": "python",
   "pygments_lexer": "ipython3",
   "version": "3.7.3"
  }
 },
 "nbformat": 4,
 "nbformat_minor": 2
}
