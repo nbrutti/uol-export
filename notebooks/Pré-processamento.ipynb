{
 "cells": [
  {
   "cell_type": "markdown",
   "metadata": {},
   "source": [
    "# Fase de pré-processamento"
   ]
  },
  {
   "cell_type": "markdown",
   "metadata": {},
   "source": [
    "- Entrada: arquivo exportado pelo scraper da UOL\n",
    "- Saída: Arquivo estruturado pronto para submissão ao modelo de aprendizagem"
   ]
  },
  {
   "cell_type": "code",
   "execution_count": 88,
   "metadata": {},
   "outputs": [],
   "source": [
    "import sys\n",
    "\n",
    "sys.path.append('..')\n",
    "\n",
    "from hiperparameters.TeamStrength import *\n",
    "\n",
    "from enum import Enum\n",
    "import seaborn as sns\n",
    "import matplotlib.pyplot as plt\n",
    "import pandas as pd\n",
    "import json\n",
    "\n",
    "plt.style.use('seaborn')\n",
    "\n",
    "%matplotlib inline"
   ]
  },
  {
   "cell_type": "code",
   "execution_count": 99,
   "metadata": {
    "scrolled": false
   },
   "outputs": [],
   "source": [
    "# Carga do arquivo de saída do scraper\n",
    "file_src = '../output/br-league.json'\n",
    "\n",
    "with open(file_src) as f:\n",
    "    raw_data = json.load(f)\n",
    "\n",
    "class Seasons(Enum):\n",
    "    FIRST = 45\n",
    "    SECOND = 90\n",
    "    \n",
    "def getEventsInfo(events, team, season):\n",
    "    filtered = [(event[\"team\"] == team and int(event[\"time\"]) <= season.value) for event in events]\n",
    "    return filtered.count(True)\n",
    "\n",
    "def addTacticalType(s, data, i):\n",
    "    if (s == 'OFF'):\n",
    "        data[\"y_{}_tactical_type_off\".format(i)] = 1\n",
    "        data[\"y_{}_tactical_type_def\".format(i)] = 0\n",
    "        data[\"y_{}_tactical_type_na\".format(i)] = 0\n",
    "    elif (s == 'DEF'):\n",
    "        data[\"y_{}_tactical_type_off\".format(i)] = 0\n",
    "        data[\"y_{}_tactical_type_def\".format(i)] = 1\n",
    "        data[\"y_{}_tactical_type_na\".format(i)] = 0\n",
    "    else:\n",
    "        data[\"y_{}_tactical_type_off\".format(i)] = 0\n",
    "        data[\"y_{}_tactical_type_def\".format(i)] = 0\n",
    "        data[\"y_{}_tactical_type_na\".format(i)] = 1\n",
    "\n",
    "def addInterval(t, data, i):\n",
    "    if (t >= 0 and t <= 15):\n",
    "        data[\"y_{}_interval_0\".format(i)] = 1\n",
    "        data[\"y_{}_interval_1\".format(i)] = 0\n",
    "        data[\"y_{}_interval_2\".format(i)] = 0\n",
    "        data[\"y_{}_interval_3\".format(i)] = 0\n",
    "        data[\"y_{}_interval_4\".format(i)] = 0\n",
    "        data[\"y_{}_interval_5\".format(i)] = 0\n",
    "    elif (t > 15 and t <= 30):\n",
    "        data[\"y_{}_interval_0\".format(i)] = 0\n",
    "        data[\"y_{}_interval_1\".format(i)] = 1\n",
    "        data[\"y_{}_interval_2\".format(i)] = 0\n",
    "        data[\"y_{}_interval_3\".format(i)] = 0\n",
    "        data[\"y_{}_interval_4\".format(i)] = 0\n",
    "        data[\"y_{}_interval_5\".format(i)] = 0\n",
    "    elif (t > 30 and t <= 45):\n",
    "        data[\"y_{}_interval_0\".format(i)] = 0\n",
    "        data[\"y_{}_interval_1\".format(i)] = 0\n",
    "        data[\"y_{}_interval_2\".format(i)] = 1\n",
    "        data[\"y_{}_interval_3\".format(i)] = 0\n",
    "        data[\"y_{}_interval_4\".format(i)] = 0\n",
    "        data[\"y_{}_interval_5\".format(i)] = 0\n",
    "    elif (t > 45 and t <= 60):\n",
    "        data[\"y_{}_interval_0\".format(i)] = 0\n",
    "        data[\"y_{}_interval_1\".format(i)] = 0\n",
    "        data[\"y_{}_interval_2\".format(i)] = 0\n",
    "        data[\"y_{}_interval_3\".format(i)] = 1\n",
    "        data[\"y_{}_interval_4\".format(i)] = 0\n",
    "        data[\"y_{}_interval_5\".format(i)] = 0\n",
    "    elif (t > 60 and t <= 75):\n",
    "        data[\"y_{}_interval_0\".format(i)] = 0\n",
    "        data[\"y_{}_interval_1\".format(i)] = 0\n",
    "        data[\"y_{}_interval_2\".format(i)] = 0\n",
    "        data[\"y_{}_interval_3\".format(i)] = 0\n",
    "        data[\"y_{}_interval_4\".format(i)] = 1\n",
    "        data[\"y_{}_interval_5\".format(i)] = 0\n",
    "    elif (t > 75 and t <= 90):\n",
    "        data[\"y_{}_interval_0\".format(i)] = 0\n",
    "        data[\"y_{}_interval_1\".format(i)] = 0\n",
    "        data[\"y_{}_interval_2\".format(i)] = 0\n",
    "        data[\"y_{}_interval_3\".format(i)] = 0\n",
    "        data[\"y_{}_interval_4\".format(i)] = 0\n",
    "        data[\"y_{}_interval_5\".format(i)] = 1\n",
    "        \n",
    "def getYearFromDate(date):\n",
    "    return date[:4]\n",
    "\n",
    "def getSubsInfoAndLabels(data, substitutions):\n",
    "    MAX_SUBSTITUTIONS = 3\n",
    "    for i in range(MAX_SUBSTITUTIONS):\n",
    "        try:\n",
    "            data[\"substitution_{}_score_away\".format(i)] = substitutions[i][\"score_away\"]\n",
    "            data[\"substitution_{}_score_home\".format(i)] = substitutions[i][\"score_home\"]\n",
    "            data[\"substitution_{}_time\".format(i)] = 45 if substitutions[i][\"time\"] == 'INTERVALO' else substitutions[i][\"time\"]\n",
    "            data[\"substitution_{}_number\".format(i)] = substitutions[i][\"number_of_sub\"]\n",
    "            data[\"substitution_{}_is_home\".format(i)] = 1 if substitutions[i][\"team\"] == data[\"home_team_name\"] else 0\n",
    "            addInterval(int(substitutions[i][\"time\"]), data, i)\n",
    "            addTacticalType(substitutions[i][\"tactical_type\"], data, i)\n",
    "            data[\"y_{}_effectiveness\".format(i)] = substitutions[i][\"effectiveness\"]\n",
    "        except:\n",
    "            data[\"substitution_{}_score_away\".format(i)] = 0\n",
    "            data[\"substitution_{}_score_home\".format(i)] = 0\n",
    "            data[\"substitution_{}_time\".format(i)] = 0\n",
    "            data[\"substitution_{}_number\".format(i)] = 0\n",
    "            data[\"substitution_{}_is_home\".format(i)] = 0\n",
    "            data[\"y_{}_effectiveness\".format(i)] = 0\n",
    "            data[\"y_{}_interval_0\".format(i)] = 0\n",
    "            data[\"y_{}_interval_1\".format(i)] = 0\n",
    "            data[\"y_{}_interval_2\".format(i)] = 0\n",
    "            data[\"y_{}_interval_3\".format(i)] = 0\n",
    "            data[\"y_{}_interval_4\".format(i)] = 0\n",
    "            data[\"y_{}_interval_5\".format(i)] = 0\n",
    "            data[\"y_{}_tactical_type_off\".format(i)] = 0\n",
    "            data[\"y_{}_tactical_type_def\".format(i)] = 0\n",
    "            data[\"y_{}_tactical_type_na\".format(i)] = 0\n",
    "\n",
    "def dataFormatter(raw_data):\n",
    "    output = []\n",
    "    for d in raw_data:\n",
    "        data = {}\n",
    "        data[\"date\"] = d[\"date\"]\n",
    "        data[\"home_team_name\"] = d[\"home\"]\n",
    "        data[\"away_team_name\"] = d[\"away\"]\n",
    "        data[\"home_win\"] = d[\"home_win\"]\n",
    "        data[\"home_team_strength\"] = TeamStrength().buildParam(d[\"home\"], getYearFromDate(d[\"date\"]))\n",
    "        data[\"ycards_home_1st_season\"] = getEventsInfo(d[\"yellowcards\"],  d[\"home\"], Seasons.FIRST)\n",
    "        data[\"ycards_away_1st_season\"] = getEventsInfo(d[\"yellowcards\"],  d[\"away\"], Seasons.FIRST)\n",
    "        data[\"ycards_home_2nd_season\"] = getEventsInfo(d[\"yellowcards\"],  d[\"home\"], Seasons.SECOND)\n",
    "        data[\"ycards_away_2nd_season\"] = getEventsInfo(d[\"yellowcards\"],  d[\"away\"], Seasons.SECOND)\n",
    "        data[\"rcards_home_1st_season\"] = getEventsInfo(d[\"redcards\"],     d[\"home\"], Seasons.FIRST)\n",
    "        data[\"rcards_away_1st_season\"] = getEventsInfo(d[\"redcards\"],     d[\"away\"], Seasons.FIRST)\n",
    "        data[\"rcards_home_2nd_season\"] = getEventsInfo(d[\"redcards\"],     d[\"home\"], Seasons.SECOND)\n",
    "        data[\"rcards_away_2nd_season\"] = getEventsInfo(d[\"redcards\"],     d[\"away\"], Seasons.SECOND)\n",
    "        data[\"agoals_home_1st_season\"] = getEventsInfo(d[\"againstgoals\"], d[\"home\"], Seasons.FIRST)\n",
    "        data[\"agoals_away_1st_season\"] = getEventsInfo(d[\"againstgoals\"], d[\"away\"], Seasons.FIRST)\n",
    "        data[\"agoals_home_2nd_season\"] = getEventsInfo(d[\"againstgoals\"], d[\"home\"], Seasons.SECOND)\n",
    "        data[\"agoals_away_2nd_season\"] = getEventsInfo(d[\"againstgoals\"], d[\"away\"], Seasons.SECOND)\n",
    "        data[\"penaltys_home_1st_season\"] = getEventsInfo(d[\"penaltys\"],   d[\"home\"], Seasons.FIRST)\n",
    "        data[\"penaltys_away_1st_season\"] = getEventsInfo(d[\"penaltys\"],   d[\"away\"], Seasons.FIRST)\n",
    "        data[\"penaltys_home_2nd_season\"] = getEventsInfo(d[\"penaltys\"],   d[\"home\"], Seasons.SECOND)\n",
    "        data[\"penaltys_away_2nd_season\"] = getEventsInfo(d[\"penaltys\"],   d[\"away\"], Seasons.SECOND)\n",
    "        getSubsInfoAndLabels(data, d[\"substitutions\"])\n",
    "        output.append(data)\n",
    "    return output\n",
    "    \n",
    "data = dataFormatter(raw_data)\n",
    "json_stringify = json.dumps(data)\n",
    "df = pd.read_json(json_stringify)"
   ]
  },
  {
   "cell_type": "code",
   "execution_count": 100,
   "metadata": {
    "scrolled": true
   },
   "outputs": [
    {
     "data": {
      "text/html": [
       "<div>\n",
       "<style scoped>\n",
       "    .dataframe tbody tr th:only-of-type {\n",
       "        vertical-align: middle;\n",
       "    }\n",
       "\n",
       "    .dataframe tbody tr th {\n",
       "        vertical-align: top;\n",
       "    }\n",
       "\n",
       "    .dataframe thead th {\n",
       "        text-align: right;\n",
       "    }\n",
       "</style>\n",
       "<table border=\"1\" class=\"dataframe\">\n",
       "  <thead>\n",
       "    <tr style=\"text-align: right;\">\n",
       "      <th></th>\n",
       "      <th>agoals_away_1st_season</th>\n",
       "      <th>agoals_away_2nd_season</th>\n",
       "      <th>agoals_home_1st_season</th>\n",
       "      <th>agoals_home_2nd_season</th>\n",
       "      <th>away_team_name</th>\n",
       "      <th>date</th>\n",
       "      <th>home_team_name</th>\n",
       "      <th>home_team_strength</th>\n",
       "      <th>home_win</th>\n",
       "      <th>penaltys_away_1st_season</th>\n",
       "      <th>...</th>\n",
       "      <th>y_2_interval_3</th>\n",
       "      <th>y_2_interval_4</th>\n",
       "      <th>y_2_interval_5</th>\n",
       "      <th>y_2_tactical_type_def</th>\n",
       "      <th>y_2_tactical_type_na</th>\n",
       "      <th>y_2_tactical_type_off</th>\n",
       "      <th>ycards_away_1st_season</th>\n",
       "      <th>ycards_away_2nd_season</th>\n",
       "      <th>ycards_home_1st_season</th>\n",
       "      <th>ycards_home_2nd_season</th>\n",
       "    </tr>\n",
       "  </thead>\n",
       "  <tbody>\n",
       "    <tr>\n",
       "      <th>0</th>\n",
       "      <td>0</td>\n",
       "      <td>0</td>\n",
       "      <td>0</td>\n",
       "      <td>0</td>\n",
       "      <td>coritiba</td>\n",
       "      <td>20150509</td>\n",
       "      <td>chapecoense</td>\n",
       "      <td>0.61</td>\n",
       "      <td>1</td>\n",
       "      <td>0</td>\n",
       "      <td>...</td>\n",
       "      <td>0</td>\n",
       "      <td>1</td>\n",
       "      <td>0</td>\n",
       "      <td>1</td>\n",
       "      <td>0</td>\n",
       "      <td>0</td>\n",
       "      <td>1</td>\n",
       "      <td>2</td>\n",
       "      <td>0</td>\n",
       "      <td>2</td>\n",
       "    </tr>\n",
       "    <tr>\n",
       "      <th>1</th>\n",
       "      <td>0</td>\n",
       "      <td>0</td>\n",
       "      <td>0</td>\n",
       "      <td>0</td>\n",
       "      <td>vasco</td>\n",
       "      <td>20150822</td>\n",
       "      <td>goias</td>\n",
       "      <td>0.55</td>\n",
       "      <td>1</td>\n",
       "      <td>0</td>\n",
       "      <td>...</td>\n",
       "      <td>0</td>\n",
       "      <td>1</td>\n",
       "      <td>0</td>\n",
       "      <td>0</td>\n",
       "      <td>0</td>\n",
       "      <td>1</td>\n",
       "      <td>2</td>\n",
       "      <td>3</td>\n",
       "      <td>2</td>\n",
       "      <td>2</td>\n",
       "    </tr>\n",
       "    <tr>\n",
       "      <th>2</th>\n",
       "      <td>0</td>\n",
       "      <td>0</td>\n",
       "      <td>0</td>\n",
       "      <td>0</td>\n",
       "      <td>gremio</td>\n",
       "      <td>20151004</td>\n",
       "      <td>cruzeiro</td>\n",
       "      <td>0.69</td>\n",
       "      <td>0</td>\n",
       "      <td>0</td>\n",
       "      <td>...</td>\n",
       "      <td>0</td>\n",
       "      <td>1</td>\n",
       "      <td>0</td>\n",
       "      <td>0</td>\n",
       "      <td>1</td>\n",
       "      <td>0</td>\n",
       "      <td>1</td>\n",
       "      <td>3</td>\n",
       "      <td>1</td>\n",
       "      <td>3</td>\n",
       "    </tr>\n",
       "    <tr>\n",
       "      <th>3</th>\n",
       "      <td>0</td>\n",
       "      <td>0</td>\n",
       "      <td>0</td>\n",
       "      <td>0</td>\n",
       "      <td>cruzeiro</td>\n",
       "      <td>20150701</td>\n",
       "      <td>gremio</td>\n",
       "      <td>0.92</td>\n",
       "      <td>1</td>\n",
       "      <td>0</td>\n",
       "      <td>...</td>\n",
       "      <td>0</td>\n",
       "      <td>1</td>\n",
       "      <td>0</td>\n",
       "      <td>0</td>\n",
       "      <td>1</td>\n",
       "      <td>0</td>\n",
       "      <td>1</td>\n",
       "      <td>6</td>\n",
       "      <td>3</td>\n",
       "      <td>5</td>\n",
       "    </tr>\n",
       "    <tr>\n",
       "      <th>4</th>\n",
       "      <td>0</td>\n",
       "      <td>0</td>\n",
       "      <td>0</td>\n",
       "      <td>0</td>\n",
       "      <td>atletico-mg</td>\n",
       "      <td>20150509</td>\n",
       "      <td>palmeiras</td>\n",
       "      <td>0.79</td>\n",
       "      <td>0</td>\n",
       "      <td>0</td>\n",
       "      <td>...</td>\n",
       "      <td>0</td>\n",
       "      <td>1</td>\n",
       "      <td>0</td>\n",
       "      <td>0</td>\n",
       "      <td>1</td>\n",
       "      <td>0</td>\n",
       "      <td>2</td>\n",
       "      <td>3</td>\n",
       "      <td>1</td>\n",
       "      <td>2</td>\n",
       "    </tr>\n",
       "  </tbody>\n",
       "</table>\n",
       "<p>5 rows × 66 columns</p>\n",
       "</div>"
      ],
      "text/plain": [
       "   agoals_away_1st_season  agoals_away_2nd_season  agoals_home_1st_season  \\\n",
       "0                       0                       0                       0   \n",
       "1                       0                       0                       0   \n",
       "2                       0                       0                       0   \n",
       "3                       0                       0                       0   \n",
       "4                       0                       0                       0   \n",
       "\n",
       "   agoals_home_2nd_season away_team_name      date home_team_name  \\\n",
       "0                       0       coritiba  20150509    chapecoense   \n",
       "1                       0          vasco  20150822          goias   \n",
       "2                       0         gremio  20151004       cruzeiro   \n",
       "3                       0       cruzeiro  20150701         gremio   \n",
       "4                       0    atletico-mg  20150509      palmeiras   \n",
       "\n",
       "   home_team_strength  home_win  penaltys_away_1st_season  ...  \\\n",
       "0                0.61         1                         0  ...   \n",
       "1                0.55         1                         0  ...   \n",
       "2                0.69         0                         0  ...   \n",
       "3                0.92         1                         0  ...   \n",
       "4                0.79         0                         0  ...   \n",
       "\n",
       "   y_2_interval_3  y_2_interval_4  y_2_interval_5  y_2_tactical_type_def  \\\n",
       "0               0               1               0                      1   \n",
       "1               0               1               0                      0   \n",
       "2               0               1               0                      0   \n",
       "3               0               1               0                      0   \n",
       "4               0               1               0                      0   \n",
       "\n",
       "   y_2_tactical_type_na  y_2_tactical_type_off  ycards_away_1st_season  \\\n",
       "0                     0                      0                       1   \n",
       "1                     0                      1                       2   \n",
       "2                     1                      0                       1   \n",
       "3                     1                      0                       1   \n",
       "4                     1                      0                       2   \n",
       "\n",
       "   ycards_away_2nd_season  ycards_home_1st_season  ycards_home_2nd_season  \n",
       "0                       2                       0                       2  \n",
       "1                       3                       2                       2  \n",
       "2                       3                       1                       3  \n",
       "3                       6                       3                       5  \n",
       "4                       3                       1                       2  \n",
       "\n",
       "[5 rows x 66 columns]"
      ]
     },
     "execution_count": 100,
     "metadata": {},
     "output_type": "execute_result"
    }
   ],
   "source": [
    "df.head()"
   ]
  },
  {
   "cell_type": "code",
   "execution_count": 101,
   "metadata": {},
   "outputs": [
    {
     "data": {
      "text/plain": [
       "<matplotlib.axes._subplots.AxesSubplot at 0x7ff1a0e29828>"
      ]
     },
     "execution_count": 101,
     "metadata": {},
     "output_type": "execute_result"
    },
    {
     "data": {
      "image/png": "[encoded data removed]",
      "text/plain": [
       "<Figure size 720x720 with 1 Axes>"
      ]
     },
     "metadata": {
      "needs_background": "light"
     },
     "output_type": "display_data"
    }
   ],
   "source": [
    "df[\"home_win\"].value_counts().plot.bar(rot=0, figsize=(10,10), fontsize=14)"
   ]
  },
  {
   "cell_type": "code",
   "execution_count": 92,
   "metadata": {},
   "outputs": [
    {
     "name": "stdout",
     "output_type": "stream",
     "text": [
      "<class 'pandas.core.frame.DataFrame'>\n",
      "Int64Index: 718 entries, 0 to 1420\n",
      "Data columns (total 66 columns):\n",
      "agoals_away_1st_season       718 non-null int64\n",
      "agoals_away_2nd_season       718 non-null int64\n",
      "agoals_home_1st_season       718 non-null int64\n",
      "agoals_home_2nd_season       718 non-null int64\n",
      "away_team_name               718 non-null object\n",
      "date                         718 non-null int64\n",
      "home_team_name               718 non-null object\n",
      "home_team_strength           718 non-null float64\n",
      "home_win                     718 non-null int64\n",
      "penaltys_away_1st_season     718 non-null int64\n",
      "penaltys_away_2nd_season     718 non-null int64\n",
      "penaltys_home_1st_season     718 non-null int64\n",
      "penaltys_home_2nd_season     718 non-null int64\n",
      "rcards_away_1st_season       718 non-null int64\n",
      "rcards_away_2nd_season       718 non-null int64\n",
      "rcards_home_1st_season       718 non-null int64\n",
      "rcards_home_2nd_season       718 non-null int64\n",
      "substitution_0_is_home       718 non-null int64\n",
      "substitution_0_number        718 non-null int64\n",
      "substitution_0_score_away    718 non-null int64\n",
      "substitution_0_score_home    718 non-null int64\n",
      "substitution_0_time          718 non-null int64\n",
      "substitution_1_is_home       718 non-null int64\n",
      "substitution_1_number        718 non-null int64\n",
      "substitution_1_score_away    718 non-null int64\n",
      "substitution_1_score_home    718 non-null int64\n",
      "substitution_1_time          718 non-null int64\n",
      "substitution_2_is_home       718 non-null int64\n",
      "substitution_2_number        718 non-null int64\n",
      "substitution_2_score_away    718 non-null int64\n",
      "substitution_2_score_home    718 non-null int64\n",
      "substitution_2_time          718 non-null int64\n",
      "y_0_effectiveness            718 non-null int64\n",
      "y_0_interval_0               718 non-null int64\n",
      "y_0_interval_1               718 non-null int64\n",
      "y_0_interval_2               718 non-null int64\n",
      "y_0_interval_3               718 non-null int64\n",
      "y_0_interval_4               718 non-null int64\n",
      "y_0_interval_5               718 non-null int64\n",
      "y_0_tactical_type_def        718 non-null int64\n",
      "y_0_tactical_type_na         718 non-null int64\n",
      "y_0_tactical_type_off        718 non-null int64\n",
      "y_1_effectiveness            718 non-null int64\n",
      "y_1_interval_0               718 non-null int64\n",
      "y_1_interval_1               718 non-null int64\n",
      "y_1_interval_2               718 non-null int64\n",
      "y_1_interval_3               718 non-null int64\n",
      "y_1_interval_4               718 non-null int64\n",
      "y_1_interval_5               718 non-null int64\n",
      "y_1_tactical_type_def        718 non-null int64\n",
      "y_1_tactical_type_na         718 non-null int64\n",
      "y_1_tactical_type_off        718 non-null int64\n",
      "y_2_effectiveness            718 non-null int64\n",
      "y_2_interval_0               718 non-null int64\n",
      "y_2_interval_1               718 non-null int64\n",
      "y_2_interval_2               718 non-null int64\n",
      "y_2_interval_3               718 non-null int64\n",
      "y_2_interval_4               718 non-null int64\n",
      "y_2_interval_5               718 non-null int64\n",
      "y_2_tactical_type_def        718 non-null int64\n",
      "y_2_tactical_type_na         718 non-null int64\n",
      "y_2_tactical_type_off        718 non-null int64\n",
      "ycards_away_1st_season       718 non-null int64\n",
      "ycards_away_2nd_season       718 non-null int64\n",
      "ycards_home_1st_season       718 non-null int64\n",
      "ycards_home_2nd_season       718 non-null int64\n",
      "dtypes: float64(1), int64(63), object(2)\n",
      "memory usage: 375.8+ KB\n"
     ]
    }
   ],
   "source": [
    "# O estudo se concentrará nos casos onde o time da casa venceu. Portanto será feito o split no dataset\n",
    "# para trabalhar com os 718 casos.\n",
    "\n",
    "df = df[df[\"home_win\"] == 1]\n",
    "df.info()"
   ]
  },
  {
   "cell_type": "code",
   "execution_count": 102,
   "metadata": {
    "scrolled": true
   },
   "outputs": [
    {
     "data": {
      "text/plain": [
       "<matplotlib.axes._subplots.AxesSubplot at 0x7ff1a1da70b8>"
      ]
     },
     "execution_count": 102,
     "metadata": {},
     "output_type": "execute_result"
    },
    {
     "data": {
      "image/png": "[encoded data removed]",
      "text/plain": [
       "<Figure size 432x288 with 1 Axes>"
      ]
     },
     "metadata": {
      "needs_background": "light"
     },
     "output_type": "display_data"
    }
   ],
   "source": [
    "df_filtered = df[df[\"substitution_0_time\"] != -1]\n",
    "df_filtered[\"substitution_0_time\"].apply(lambda x : 45 if x == 'INTERVALO' else int(x)).plot.hist()"
   ]
  },
  {
   "cell_type": "code",
   "execution_count": 94,
   "metadata": {},
   "outputs": [
    {
     "data": {
      "text/plain": [
       "<matplotlib.axes._subplots.AxesSubplot at 0x7ff1a1b76d68>"
      ]
     },
     "execution_count": 94,
     "metadata": {},
     "output_type": "execute_result"
    },
    {
     "data": {
      "image/png": "[encoded data removed]",
      "text/plain": [
       "<Figure size 432x288 with 1 Axes>"
      ]
     },
     "metadata": {
      "needs_background": "light"
     },
     "output_type": "display_data"
    }
   ],
   "source": [
    "df_filtered = df[df[\"substitution_1_time\"] != -1]\n",
    "df_filtered[\"substitution_1_time\"].apply(lambda x : 45 if x == 'INTERVALO' else int(x)).plot.hist()"
   ]
  },
  {
   "cell_type": "code",
   "execution_count": 103,
   "metadata": {},
   "outputs": [
    {
     "data": {
      "text/plain": [
       "<matplotlib.axes._subplots.AxesSubplot at 0x7ff1a27ee320>"
      ]
     },
     "execution_count": 103,
     "metadata": {},
     "output_type": "execute_result"
    },
    {
     "data": {
      "image/png": "[encoded data removed]",
      "text/plain": [
       "<Figure size 432x288 with 1 Axes>"
      ]
     },
     "metadata": {
      "needs_background": "light"
     },
     "output_type": "display_data"
    }
   ],
   "source": [
    "df_filtered = df[df[\"substitution_2_time\"] !=-1]\n",
    "df_filtered[\"substitution_2_time\"].apply(lambda x : 45 if x == 'INTERVALO' else int(x)).plot.hist()"
   ]
  },
  {
   "cell_type": "markdown",
   "metadata": {},
   "source": [
    "## Classificador RandomForest"
   ]
  },
  {
   "cell_type": "code",
   "execution_count": 134,
   "metadata": {
    "scrolled": true
   },
   "outputs": [
    {
     "name": "stdout",
     "output_type": "stream",
     "text": [
      "Accuracy:  0.5128805620608899\n",
      "Hamming:  0.03825136612021858\n"
     ]
    }
   ],
   "source": [
    "from skmultilearn.problem_transform import LabelPowerset\n",
    "from sklearn.ensemble import RandomForestClassifier\n",
    "\n",
    "from sklearn.model_selection import train_test_split\n",
    "\n",
    "from sklearn.metrics import accuracy_score, hamming_loss\n",
    "\n",
    "target_columns = [\n",
    "   'y_0_effectiveness',\n",
    "   'y_0_interval_0',\n",
    "   'y_0_interval_1',\n",
    "   'y_0_interval_2',\n",
    "   'y_0_interval_3',\n",
    "   'y_0_interval_4',\n",
    "   'y_0_interval_5',\n",
    "   'y_0_tactical_type_off',\n",
    "   'y_0_tactical_type_def',\n",
    "   'y_0_tactical_type_na',\n",
    "   'y_1_effectiveness',\n",
    "   'y_1_interval_0',\n",
    "   'y_1_interval_1',\n",
    "   'y_1_interval_2',\n",
    "   'y_1_interval_3',\n",
    "   'y_1_interval_4',\n",
    "   'y_1_interval_5',\n",
    "   'y_1_tactical_type_off',\n",
    "   'y_1_tactical_type_def',\n",
    "   'y_1_tactical_type_na',\n",
    "   'y_2_effectiveness',\n",
    "   'y_2_interval_0',\n",
    "   'y_2_interval_1',\n",
    "   'y_2_interval_2',\n",
    "   'y_2_interval_3',\n",
    "   'y_2_interval_4',\n",
    "   'y_2_interval_5',\n",
    "   'y_2_tactical_type_off',\n",
    "   'y_2_tactical_type_def',\n",
    "   'y_2_tactical_type_na',\n",
    "]\n",
    "\n",
    "Y = df.filter(target_columns, axis=1)\n",
    "X = df.drop(target_columns, axis=1)\n",
    "X = df.drop(['away_team_name', 'home_team_name', 'date'], axis=1)\n",
    "\n",
    "X_train, X_test, Y_train, Y_test = train_test_split(X, Y, test_size = 0.3, random_state = 42)\n",
    "\n",
    "classifier = LabelPowerset(classifier=RandomForestClassifier(n_estimators=150, criterion='entropy'), require_dense = [False, True]).fit(X_train, Y_train)\n",
    "\n",
    "y_hat = classifier.predict(X_test)\n",
    "\n",
    "print(\"Accuracy: \", accuracy_score(Y_test, y_hat))\n",
    "print(\"Hamming: \", hamming_loss(Y_test, y_hat))"
   ]
  },
  {
   "cell_type": "markdown",
   "metadata": {},
   "source": [
    "## Classificador SVM"
   ]
  },
  {
   "cell_type": "code",
   "execution_count": 118,
   "metadata": {},
   "outputs": [
    {
     "name": "stdout",
     "output_type": "stream",
     "text": [
      "Accuracy:  0.117096018735363\n",
      "Hamming:  0.13860699106600746\n"
     ]
    }
   ],
   "source": [
    "from sklearn.svm import SVC\n",
    "\n",
    "X_train, X_test, Y_train, Y_test = train_test_split(X, Y, test_size = 0.3, random_state = 42)\n",
    "\n",
    "classifier = LabelPowerset(classifier=SVC(gamma='scale'), require_dense=[False,True]).fit(X_train, Y_train)\n",
    "\n",
    "y_hat = classifier.predict(X_test)\n",
    "\n",
    "print(\"Accuracy: \", accuracy_score(Y_test, y_hat))\n",
    "print(\"Hamming: \", hamming_loss(Y_test, y_hat))"
   ]
  },
  {
   "cell_type": "markdown",
   "metadata": {},
   "source": [
    "## Classificador KNN"
   ]
  },
  {
   "cell_type": "code",
   "execution_count": 119,
   "metadata": {},
   "outputs": [
    {
     "name": "stdout",
     "output_type": "stream",
     "text": [
      "Accuracy:  0.2224824355971897\n",
      "Hamming:  0.08673779165582444\n"
     ]
    }
   ],
   "source": [
    "from sklearn.neighbors import KNeighborsClassifier\n",
    "from skmultilearn.problem_transform import BinaryRelevance\n",
    "\n",
    "X_train, X_test, Y_train, Y_test = train_test_split(X, Y, test_size = 0.3, random_state = 42)\n",
    "\n",
    "classifier = BinaryRelevance(classifier=KNeighborsClassifier(n_neighbors=3)).fit(X_train, Y_train)\n",
    "\n",
    "y_hat = classifier.predict(X_test)\n",
    "\n",
    "print(\"Accuracy: \", accuracy_score(Y_test, y_hat))\n",
    "print(\"Hamming: \", hamming_loss(Y_test, y_hat))"
   ]
  },
  {
   "cell_type": "markdown",
   "metadata": {},
   "source": [
    "## Classificador DecisionTree"
   ]
  },
  {
   "cell_type": "code",
   "execution_count": 127,
   "metadata": {},
   "outputs": [
    {
     "name": "stdout",
     "output_type": "stream",
     "text": [
      "Accuracy:  0.4707259953161593\n",
      "Hamming:  0.054879000780640126\n"
     ]
    }
   ],
   "source": [
    "from sklearn.tree import DecisionTreeClassifier\n",
    "\n",
    "X_train, X_test, Y_train, Y_test = train_test_split(X, Y, test_size = 0.3, random_state = 42)\n",
    "\n",
    "classifier = LabelPowerset(classifier=DecisionTreeClassifier(random_state=2,criterion='entropy')).fit(X_train, Y_train)\n",
    "\n",
    "y_hat = classifier.predict(X_test)\n",
    "\n",
    "print(\"Accuracy: \", accuracy_score(Y_test, y_hat))\n",
    "print(\"Hamming: \", hamming_loss(Y_test, y_hat))"
   ]
  }
 ],
 "metadata": {
  "kernelspec": {
   "display_name": "Python 3",
   "language": "python",
   "name": "python3"
  },
  "language_info": {
   "codemirror_mode": {
    "name": "ipython",
    "version": 3
   },
   "file_extension": ".py",
   "mimetype": "text/x-python",
   "name": "python",
   "nbconvert_exporter": "python",
   "pygments_lexer": "ipython3",
   "version": "3.6.7"
  }
 },
 "nbformat": 4,
 "nbformat_minor": 2
}
