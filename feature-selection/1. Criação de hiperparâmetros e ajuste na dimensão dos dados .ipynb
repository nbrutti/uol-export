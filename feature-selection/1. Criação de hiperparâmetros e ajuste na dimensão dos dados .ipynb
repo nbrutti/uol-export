{
 "cells": [
  {
   "cell_type": "code",
   "execution_count": 2,
   "metadata": {},
   "outputs": [],
   "source": [
    "import json\n",
    "import pandas as pd\n",
    "from flatten_json import flatten"
   ]
  },
  {
   "cell_type": "code",
   "execution_count": 3,
   "metadata": {},
   "outputs": [],
   "source": [
    "# Foi consultado na base de dados SQL a quantidade máxima de cada evento,\n",
    "# para posterior \"nivelamento\" dos dados\n",
    "# Query: SELECT count(matches.id) FROM matches JOIN match_{EVENTO_NOME} ON (match_{EVENTO_NOME}.match_id = matches.id) GROUP BY matches.id ORDER BY count(matches.id) DESC;\n",
    "\n",
    "MAX_AGAINSTGOALS = 2\n",
    "MAX_GOALS = 8\n",
    "MAX_PENALTYS = 3\n",
    "MAX_RCARDS = 4\n",
    "MAX_YCARDS = 11\n",
    "MAX_SUBSTITUTIONS = 6"
   ]
  },
  {
   "cell_type": "code",
   "execution_count": 4,
   "metadata": {
    "scrolled": true
   },
   "outputs": [],
   "source": [
    "file = '../output/br-league.json'\n",
    "\n",
    "def completeAnotherEvents(column, nmax):\n",
    "    for i in range(len(column), nmax):\n",
    "        column.append({\n",
    "            \"time\": None,\n",
    "            \"team_id\": None,\n",
    "            \"player_id\": None\n",
    "        })\n",
    "\n",
    "def complete(_dict):    \n",
    "    for d in _dict:\n",
    "        for i in range(len(d[\"substitutions\"]), MAX_SUBSTITUTIONS):\n",
    "            d[\"substitutions\"].append({\n",
    "                \"tactical_type\": None,\n",
    "                \"id_player_in\": None,\n",
    "                \"id_player_out\": None,\n",
    "                \"time\": None,\n",
    "                \"team_id\": None\n",
    "            })\n",
    "        completeAnotherEvents(d[\"againstgoals\"], MAX_AGAINSTGOALS)\n",
    "        completeAnotherEvents(d[\"goals\"],        MAX_GOALS)\n",
    "        completeAnotherEvents(d[\"penaltys\"],     MAX_PENALTYS)\n",
    "        completeAnotherEvents(d[\"redcards\"],     MAX_RCARDS)\n",
    "        completeAnotherEvents(d[\"yellowcards\"],  MAX_YCARDS)\n",
    "\n",
    "def hasSubstitution(substitutions, time):\n",
    "    for substitution in substitutions:\n",
    "        if (time > substitution[\"time\"]):\n",
    "            return True\n",
    "    return False\n",
    "        \n",
    "def goalsAfterSubs(time, substitutions, goals, N, team):\n",
    "    for goal in goals:\n",
    "        if (goal[\"team\"] == team):\n",
    "            if (hasSubstitution(substitutions, time) == True):\n",
    "                break\n",
    "            if (goal[\"time\"] > time):\n",
    "                N += 1\n",
    "    return 1-(N*0.1)\n",
    "        \n",
    "def appendLabel(_dict, team):\n",
    "    '''\n",
    "        y(N): 1 - (N * 0,1), sendo N o número de gols sofridos após a substituição\n",
    "    '''\n",
    "    for d in _dict:\n",
    "        N = 0\n",
    "        for i in range(0, len(d[\"substitutions\"])):\n",
    "            if (d[\"substitutions\"][i][\"team\"] == d[team]):\n",
    "                time = d[\"substitutions\"][i][\"time\"]\n",
    "                N = goalsAfterSubs(time, d[\"substitutions\"][i:len(d[\"substitutions\"])], d[\"goals\"], N, d[team])\n",
    "        d[\"Y_{}\".format(team)] = N\n",
    "            \n",
    "with open(file) as f:\n",
    "    _dict = json.load(f)\n",
    "\n",
    "# Adicionando o label Y, a qual deseja-se predizer\n",
    "appendLabel(_dict, \"home\")\n",
    "appendLabel(_dict, \"away\")\n",
    "#print(_dict)\n",
    "# Preencher dados faltantes\n",
    "#complete(_dict)\n",
    "#print(_dict)"
   ]
  },
  {
   "cell_type": "code",
   "execution_count": 5,
   "metadata": {},
   "outputs": [],
   "source": [
    "dict_flattened = [flatten(d) for d in _dict]"
   ]
  }
 ],
 "metadata": {
  "kernelspec": {
   "display_name": "Python 3",
   "language": "python",
   "name": "python3"
  },
  "language_info": {
   "codemirror_mode": {
    "name": "ipython",
    "version": 3
   },
   "file_extension": ".py",
   "mimetype": "text/x-python",
   "name": "python",
   "nbconvert_exporter": "python",
   "pygments_lexer": "ipython3",
   "version": "3.5.2"
  }
 },
 "nbformat": 4,
 "nbformat_minor": 2
}
